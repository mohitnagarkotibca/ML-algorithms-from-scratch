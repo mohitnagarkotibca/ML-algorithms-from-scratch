{
 "cells": [
  {
   "cell_type": "code",
   "execution_count": 17,
   "metadata": {},
   "outputs": [],
   "source": [
    "import numpy as np\n",
    "import pandas as pd\n",
    "from sklearn.decomposition import PCA\n",
    "from sklearn.datasets import make_blobs\n",
    "import matplotlib.pyplot as plt\n",
    "import plotly.graph_objects as go"
   ]
  },
  {
   "cell_type": "code",
   "execution_count": 2,
   "metadata": {},
   "outputs": [],
   "source": [
    "mb= make_blobs(n_samples=500,n_features=10,random_state=2,centers=2,cluster_std=3)"
   ]
  },
  {
   "cell_type": "code",
   "execution_count": 62,
   "metadata": {},
   "outputs": [],
   "source": [
    "df= pd.DataFrame(mb[0])\n",
    "C= mb[1]"
   ]
  },
  {
   "cell_type": "markdown",
   "metadata": {},
   "source": [
    "##  We have 9 Dimension data and to reduce this 9D data into a lower dimension PCA is used"
   ]
  },
  {
   "cell_type": "markdown",
   "metadata": {},
   "source": [
    "## we can see and plot data which are either in 1D, 2D and 3D"
   ]
  },
  {
   "cell_type": "markdown",
   "metadata": {},
   "source": [
    "##  Steps for PCA:\n",
    "<b>\n",
    "1 - make mean 0 <br>\n",
    "2 - find covariance matrix<br>\n",
    "3 - find eigen vectors and values<br>\n",
    "4 - perform linear transformation<br>\n",
    "5 - plot data\n",
    "</b>"
   ]
  },
  {
   "cell_type": "code",
   "execution_count": 170,
   "metadata": {},
   "outputs": [
    {
     "data": {
      "application/vnd.plotly.v1+json": {
       "config": {
        "plotlyServerURL": "https://plot.ly"
       },
       "data": [
        {
         "alignmentgroup": "True",
         "hovertemplate": "variable=0<br>index=%{x}<br>value=%{y}<extra></extra>",
         "legendgroup": "0",
         "marker": {
          "color": "#636efa"
         },
         "name": "0",
         "offsetgroup": "0",
         "orientation": "v",
         "showlegend": true,
         "textposition": "auto",
         "type": "bar",
         "x": [
          0,
          1,
          2,
          3,
          4,
          5,
          6,
          7,
          8,
          9
         ],
         "xaxis": "x",
         "y": [
          66.70173056213858,
          4.439414170930054,
          4.34185057787146,
          4.049664140647771,
          2.999673810711059,
          3.095235887305513,
          3.780354839395481,
          3.6744730233742446,
          3.569367107962912,
          3.348235879662938
         ],
         "yaxis": "y"
        }
       ],
       "layout": {
        "barmode": "relative",
        "legend": {
         "title": {
          "text": "variable"
         },
         "tracegroupgap": 0
        },
        "template": {
         "data": {
          "bar": [
           {
            "error_x": {
             "color": "#2a3f5f"
            },
            "error_y": {
             "color": "#2a3f5f"
            },
            "marker": {
             "line": {
              "color": "#E5ECF6",
              "width": 0.5
             }
            },
            "type": "bar"
           }
          ],
          "barpolar": [
           {
            "marker": {
             "line": {
              "color": "#E5ECF6",
              "width": 0.5
             }
            },
            "type": "barpolar"
           }
          ],
          "carpet": [
           {
            "aaxis": {
             "endlinecolor": "#2a3f5f",
             "gridcolor": "white",
             "linecolor": "white",
             "minorgridcolor": "white",
             "startlinecolor": "#2a3f5f"
            },
            "baxis": {
             "endlinecolor": "#2a3f5f",
             "gridcolor": "white",
             "linecolor": "white",
             "minorgridcolor": "white",
             "startlinecolor": "#2a3f5f"
            },
            "type": "carpet"
           }
          ],
          "choropleth": [
           {
            "colorbar": {
             "outlinewidth": 0,
             "ticks": ""
            },
            "type": "choropleth"
           }
          ],
          "contour": [
           {
            "colorbar": {
             "outlinewidth": 0,
             "ticks": ""
            },
            "colorscale": [
             [
              0,
              "#0d0887"
             ],
             [
              0.1111111111111111,
              "#46039f"
             ],
             [
              0.2222222222222222,
              "#7201a8"
             ],
             [
              0.3333333333333333,
              "#9c179e"
             ],
             [
              0.4444444444444444,
              "#bd3786"
             ],
             [
              0.5555555555555556,
              "#d8576b"
             ],
             [
              0.6666666666666666,
              "#ed7953"
             ],
             [
              0.7777777777777778,
              "#fb9f3a"
             ],
             [
              0.8888888888888888,
              "#fdca26"
             ],
             [
              1,
              "#f0f921"
             ]
            ],
            "type": "contour"
           }
          ],
          "contourcarpet": [
           {
            "colorbar": {
             "outlinewidth": 0,
             "ticks": ""
            },
            "type": "contourcarpet"
           }
          ],
          "heatmap": [
           {
            "colorbar": {
             "outlinewidth": 0,
             "ticks": ""
            },
            "colorscale": [
             [
              0,
              "#0d0887"
             ],
             [
              0.1111111111111111,
              "#46039f"
             ],
             [
              0.2222222222222222,
              "#7201a8"
             ],
             [
              0.3333333333333333,
              "#9c179e"
             ],
             [
              0.4444444444444444,
              "#bd3786"
             ],
             [
              0.5555555555555556,
              "#d8576b"
             ],
             [
              0.6666666666666666,
              "#ed7953"
             ],
             [
              0.7777777777777778,
              "#fb9f3a"
             ],
             [
              0.8888888888888888,
              "#fdca26"
             ],
             [
              1,
              "#f0f921"
             ]
            ],
            "type": "heatmap"
           }
          ],
          "heatmapgl": [
           {
            "colorbar": {
             "outlinewidth": 0,
             "ticks": ""
            },
            "colorscale": [
             [
              0,
              "#0d0887"
             ],
             [
              0.1111111111111111,
              "#46039f"
             ],
             [
              0.2222222222222222,
              "#7201a8"
             ],
             [
              0.3333333333333333,
              "#9c179e"
             ],
             [
              0.4444444444444444,
              "#bd3786"
             ],
             [
              0.5555555555555556,
              "#d8576b"
             ],
             [
              0.6666666666666666,
              "#ed7953"
             ],
             [
              0.7777777777777778,
              "#fb9f3a"
             ],
             [
              0.8888888888888888,
              "#fdca26"
             ],
             [
              1,
              "#f0f921"
             ]
            ],
            "type": "heatmapgl"
           }
          ],
          "histogram": [
           {
            "marker": {
             "colorbar": {
              "outlinewidth": 0,
              "ticks": ""
             }
            },
            "type": "histogram"
           }
          ],
          "histogram2d": [
           {
            "colorbar": {
             "outlinewidth": 0,
             "ticks": ""
            },
            "colorscale": [
             [
              0,
              "#0d0887"
             ],
             [
              0.1111111111111111,
              "#46039f"
             ],
             [
              0.2222222222222222,
              "#7201a8"
             ],
             [
              0.3333333333333333,
              "#9c179e"
             ],
             [
              0.4444444444444444,
              "#bd3786"
             ],
             [
              0.5555555555555556,
              "#d8576b"
             ],
             [
              0.6666666666666666,
              "#ed7953"
             ],
             [
              0.7777777777777778,
              "#fb9f3a"
             ],
             [
              0.8888888888888888,
              "#fdca26"
             ],
             [
              1,
              "#f0f921"
             ]
            ],
            "type": "histogram2d"
           }
          ],
          "histogram2dcontour": [
           {
            "colorbar": {
             "outlinewidth": 0,
             "ticks": ""
            },
            "colorscale": [
             [
              0,
              "#0d0887"
             ],
             [
              0.1111111111111111,
              "#46039f"
             ],
             [
              0.2222222222222222,
              "#7201a8"
             ],
             [
              0.3333333333333333,
              "#9c179e"
             ],
             [
              0.4444444444444444,
              "#bd3786"
             ],
             [
              0.5555555555555556,
              "#d8576b"
             ],
             [
              0.6666666666666666,
              "#ed7953"
             ],
             [
              0.7777777777777778,
              "#fb9f3a"
             ],
             [
              0.8888888888888888,
              "#fdca26"
             ],
             [
              1,
              "#f0f921"
             ]
            ],
            "type": "histogram2dcontour"
           }
          ],
          "mesh3d": [
           {
            "colorbar": {
             "outlinewidth": 0,
             "ticks": ""
            },
            "type": "mesh3d"
           }
          ],
          "parcoords": [
           {
            "line": {
             "colorbar": {
              "outlinewidth": 0,
              "ticks": ""
             }
            },
            "type": "parcoords"
           }
          ],
          "pie": [
           {
            "automargin": true,
            "type": "pie"
           }
          ],
          "scatter": [
           {
            "marker": {
             "colorbar": {
              "outlinewidth": 0,
              "ticks": ""
             }
            },
            "type": "scatter"
           }
          ],
          "scatter3d": [
           {
            "line": {
             "colorbar": {
              "outlinewidth": 0,
              "ticks": ""
             }
            },
            "marker": {
             "colorbar": {
              "outlinewidth": 0,
              "ticks": ""
             }
            },
            "type": "scatter3d"
           }
          ],
          "scattercarpet": [
           {
            "marker": {
             "colorbar": {
              "outlinewidth": 0,
              "ticks": ""
             }
            },
            "type": "scattercarpet"
           }
          ],
          "scattergeo": [
           {
            "marker": {
             "colorbar": {
              "outlinewidth": 0,
              "ticks": ""
             }
            },
            "type": "scattergeo"
           }
          ],
          "scattergl": [
           {
            "marker": {
             "colorbar": {
              "outlinewidth": 0,
              "ticks": ""
             }
            },
            "type": "scattergl"
           }
          ],
          "scattermapbox": [
           {
            "marker": {
             "colorbar": {
              "outlinewidth": 0,
              "ticks": ""
             }
            },
            "type": "scattermapbox"
           }
          ],
          "scatterpolar": [
           {
            "marker": {
             "colorbar": {
              "outlinewidth": 0,
              "ticks": ""
             }
            },
            "type": "scatterpolar"
           }
          ],
          "scatterpolargl": [
           {
            "marker": {
             "colorbar": {
              "outlinewidth": 0,
              "ticks": ""
             }
            },
            "type": "scatterpolargl"
           }
          ],
          "scatterternary": [
           {
            "marker": {
             "colorbar": {
              "outlinewidth": 0,
              "ticks": ""
             }
            },
            "type": "scatterternary"
           }
          ],
          "surface": [
           {
            "colorbar": {
             "outlinewidth": 0,
             "ticks": ""
            },
            "colorscale": [
             [
              0,
              "#0d0887"
             ],
             [
              0.1111111111111111,
              "#46039f"
             ],
             [
              0.2222222222222222,
              "#7201a8"
             ],
             [
              0.3333333333333333,
              "#9c179e"
             ],
             [
              0.4444444444444444,
              "#bd3786"
             ],
             [
              0.5555555555555556,
              "#d8576b"
             ],
             [
              0.6666666666666666,
              "#ed7953"
             ],
             [
              0.7777777777777778,
              "#fb9f3a"
             ],
             [
              0.8888888888888888,
              "#fdca26"
             ],
             [
              1,
              "#f0f921"
             ]
            ],
            "type": "surface"
           }
          ],
          "table": [
           {
            "cells": {
             "fill": {
              "color": "#EBF0F8"
             },
             "line": {
              "color": "white"
             }
            },
            "header": {
             "fill": {
              "color": "#C8D4E3"
             },
             "line": {
              "color": "white"
             }
            },
            "type": "table"
           }
          ]
         },
         "layout": {
          "annotationdefaults": {
           "arrowcolor": "#2a3f5f",
           "arrowhead": 0,
           "arrowwidth": 1
          },
          "coloraxis": {
           "colorbar": {
            "outlinewidth": 0,
            "ticks": ""
           }
          },
          "colorscale": {
           "diverging": [
            [
             0,
             "#8e0152"
            ],
            [
             0.1,
             "#c51b7d"
            ],
            [
             0.2,
             "#de77ae"
            ],
            [
             0.3,
             "#f1b6da"
            ],
            [
             0.4,
             "#fde0ef"
            ],
            [
             0.5,
             "#f7f7f7"
            ],
            [
             0.6,
             "#e6f5d0"
            ],
            [
             0.7,
             "#b8e186"
            ],
            [
             0.8,
             "#7fbc41"
            ],
            [
             0.9,
             "#4d9221"
            ],
            [
             1,
             "#276419"
            ]
           ],
           "sequential": [
            [
             0,
             "#0d0887"
            ],
            [
             0.1111111111111111,
             "#46039f"
            ],
            [
             0.2222222222222222,
             "#7201a8"
            ],
            [
             0.3333333333333333,
             "#9c179e"
            ],
            [
             0.4444444444444444,
             "#bd3786"
            ],
            [
             0.5555555555555556,
             "#d8576b"
            ],
            [
             0.6666666666666666,
             "#ed7953"
            ],
            [
             0.7777777777777778,
             "#fb9f3a"
            ],
            [
             0.8888888888888888,
             "#fdca26"
            ],
            [
             1,
             "#f0f921"
            ]
           ],
           "sequentialminus": [
            [
             0,
             "#0d0887"
            ],
            [
             0.1111111111111111,
             "#46039f"
            ],
            [
             0.2222222222222222,
             "#7201a8"
            ],
            [
             0.3333333333333333,
             "#9c179e"
            ],
            [
             0.4444444444444444,
             "#bd3786"
            ],
            [
             0.5555555555555556,
             "#d8576b"
            ],
            [
             0.6666666666666666,
             "#ed7953"
            ],
            [
             0.7777777777777778,
             "#fb9f3a"
            ],
            [
             0.8888888888888888,
             "#fdca26"
            ],
            [
             1,
             "#f0f921"
            ]
           ]
          },
          "colorway": [
           "#636efa",
           "#EF553B",
           "#00cc96",
           "#ab63fa",
           "#FFA15A",
           "#19d3f3",
           "#FF6692",
           "#B6E880",
           "#FF97FF",
           "#FECB52"
          ],
          "font": {
           "color": "#2a3f5f"
          },
          "geo": {
           "bgcolor": "white",
           "lakecolor": "white",
           "landcolor": "#E5ECF6",
           "showlakes": true,
           "showland": true,
           "subunitcolor": "white"
          },
          "hoverlabel": {
           "align": "left"
          },
          "hovermode": "closest",
          "mapbox": {
           "style": "light"
          },
          "paper_bgcolor": "white",
          "plot_bgcolor": "#E5ECF6",
          "polar": {
           "angularaxis": {
            "gridcolor": "white",
            "linecolor": "white",
            "ticks": ""
           },
           "bgcolor": "#E5ECF6",
           "radialaxis": {
            "gridcolor": "white",
            "linecolor": "white",
            "ticks": ""
           }
          },
          "scene": {
           "xaxis": {
            "backgroundcolor": "#E5ECF6",
            "gridcolor": "white",
            "gridwidth": 2,
            "linecolor": "white",
            "showbackground": true,
            "ticks": "",
            "zerolinecolor": "white"
           },
           "yaxis": {
            "backgroundcolor": "#E5ECF6",
            "gridcolor": "white",
            "gridwidth": 2,
            "linecolor": "white",
            "showbackground": true,
            "ticks": "",
            "zerolinecolor": "white"
           },
           "zaxis": {
            "backgroundcolor": "#E5ECF6",
            "gridcolor": "white",
            "gridwidth": 2,
            "linecolor": "white",
            "showbackground": true,
            "ticks": "",
            "zerolinecolor": "white"
           }
          },
          "shapedefaults": {
           "line": {
            "color": "#2a3f5f"
           }
          },
          "ternary": {
           "aaxis": {
            "gridcolor": "white",
            "linecolor": "white",
            "ticks": ""
           },
           "baxis": {
            "gridcolor": "white",
            "linecolor": "white",
            "ticks": ""
           },
           "bgcolor": "#E5ECF6",
           "caxis": {
            "gridcolor": "white",
            "linecolor": "white",
            "ticks": ""
           }
          },
          "title": {
           "x": 0.05
          },
          "xaxis": {
           "automargin": true,
           "gridcolor": "white",
           "linecolor": "white",
           "ticks": "",
           "title": {
            "standoff": 15
           },
           "zerolinecolor": "white",
           "zerolinewidth": 2
          },
          "yaxis": {
           "automargin": true,
           "gridcolor": "white",
           "linecolor": "white",
           "ticks": "",
           "title": {
            "standoff": 15
           },
           "zerolinecolor": "white",
           "zerolinewidth": 2
          }
         }
        },
        "title": {
         "text": "Explained Variance"
        },
        "xaxis": {
         "anchor": "y",
         "domain": [
          0,
          1
         ],
         "title": {
          "text": "index"
         }
        },
        "yaxis": {
         "anchor": "x",
         "domain": [
          0,
          1
         ],
         "title": {
          "text": "value"
         }
        }
       }
      },
      "text/html": [
       "<div>\n",
       "        \n",
       "        \n",
       "            <div id=\"c9d9a785-276d-4367-96ff-90aaebdb5f49\" class=\"plotly-graph-div\" style=\"height:525px; width:100%;\"></div>\n",
       "            <script type=\"text/javascript\">\n",
       "                require([\"plotly\"], function(Plotly) {\n",
       "                    window.PLOTLYENV=window.PLOTLYENV || {};\n",
       "                    \n",
       "                if (document.getElementById(\"c9d9a785-276d-4367-96ff-90aaebdb5f49\")) {\n",
       "                    Plotly.newPlot(\n",
       "                        'c9d9a785-276d-4367-96ff-90aaebdb5f49',\n",
       "                        [{\"alignmentgroup\": \"True\", \"hovertemplate\": \"variable=0<br>index=%{x}<br>value=%{y}<extra></extra>\", \"legendgroup\": \"0\", \"marker\": {\"color\": \"#636efa\"}, \"name\": \"0\", \"offsetgroup\": \"0\", \"orientation\": \"v\", \"showlegend\": true, \"textposition\": \"auto\", \"type\": \"bar\", \"x\": [0, 1, 2, 3, 4, 5, 6, 7, 8, 9], \"xaxis\": \"x\", \"y\": [66.70173056213858, 4.439414170930054, 4.34185057787146, 4.049664140647771, 2.999673810711059, 3.095235887305513, 3.780354839395481, 3.6744730233742446, 3.569367107962912, 3.348235879662938], \"yaxis\": \"y\"}],\n",
       "                        {\"barmode\": \"relative\", \"legend\": {\"title\": {\"text\": \"variable\"}, \"tracegroupgap\": 0}, \"template\": {\"data\": {\"bar\": [{\"error_x\": {\"color\": \"#2a3f5f\"}, \"error_y\": {\"color\": \"#2a3f5f\"}, \"marker\": {\"line\": {\"color\": \"#E5ECF6\", \"width\": 0.5}}, \"type\": \"bar\"}], \"barpolar\": [{\"marker\": {\"line\": {\"color\": \"#E5ECF6\", \"width\": 0.5}}, \"type\": \"barpolar\"}], \"carpet\": [{\"aaxis\": {\"endlinecolor\": \"#2a3f5f\", \"gridcolor\": \"white\", \"linecolor\": \"white\", \"minorgridcolor\": \"white\", \"startlinecolor\": \"#2a3f5f\"}, \"baxis\": {\"endlinecolor\": \"#2a3f5f\", \"gridcolor\": \"white\", \"linecolor\": \"white\", \"minorgridcolor\": \"white\", \"startlinecolor\": \"#2a3f5f\"}, \"type\": \"carpet\"}], \"choropleth\": [{\"colorbar\": {\"outlinewidth\": 0, \"ticks\": \"\"}, \"type\": \"choropleth\"}], \"contour\": [{\"colorbar\": {\"outlinewidth\": 0, \"ticks\": \"\"}, \"colorscale\": [[0.0, \"#0d0887\"], [0.1111111111111111, \"#46039f\"], [0.2222222222222222, \"#7201a8\"], [0.3333333333333333, \"#9c179e\"], [0.4444444444444444, \"#bd3786\"], [0.5555555555555556, \"#d8576b\"], [0.6666666666666666, \"#ed7953\"], [0.7777777777777778, \"#fb9f3a\"], [0.8888888888888888, \"#fdca26\"], [1.0, \"#f0f921\"]], \"type\": \"contour\"}], \"contourcarpet\": [{\"colorbar\": {\"outlinewidth\": 0, \"ticks\": \"\"}, \"type\": \"contourcarpet\"}], \"heatmap\": [{\"colorbar\": {\"outlinewidth\": 0, \"ticks\": \"\"}, \"colorscale\": [[0.0, \"#0d0887\"], [0.1111111111111111, \"#46039f\"], [0.2222222222222222, \"#7201a8\"], [0.3333333333333333, \"#9c179e\"], [0.4444444444444444, \"#bd3786\"], [0.5555555555555556, \"#d8576b\"], [0.6666666666666666, \"#ed7953\"], [0.7777777777777778, \"#fb9f3a\"], [0.8888888888888888, \"#fdca26\"], [1.0, \"#f0f921\"]], \"type\": \"heatmap\"}], \"heatmapgl\": [{\"colorbar\": {\"outlinewidth\": 0, \"ticks\": \"\"}, \"colorscale\": [[0.0, \"#0d0887\"], [0.1111111111111111, \"#46039f\"], [0.2222222222222222, \"#7201a8\"], [0.3333333333333333, \"#9c179e\"], [0.4444444444444444, \"#bd3786\"], [0.5555555555555556, \"#d8576b\"], [0.6666666666666666, \"#ed7953\"], [0.7777777777777778, \"#fb9f3a\"], [0.8888888888888888, \"#fdca26\"], [1.0, \"#f0f921\"]], \"type\": \"heatmapgl\"}], \"histogram\": [{\"marker\": {\"colorbar\": {\"outlinewidth\": 0, \"ticks\": \"\"}}, \"type\": \"histogram\"}], \"histogram2d\": [{\"colorbar\": {\"outlinewidth\": 0, \"ticks\": \"\"}, \"colorscale\": [[0.0, \"#0d0887\"], [0.1111111111111111, \"#46039f\"], [0.2222222222222222, \"#7201a8\"], [0.3333333333333333, \"#9c179e\"], [0.4444444444444444, \"#bd3786\"], [0.5555555555555556, \"#d8576b\"], [0.6666666666666666, \"#ed7953\"], [0.7777777777777778, \"#fb9f3a\"], [0.8888888888888888, \"#fdca26\"], [1.0, \"#f0f921\"]], \"type\": \"histogram2d\"}], \"histogram2dcontour\": [{\"colorbar\": {\"outlinewidth\": 0, \"ticks\": \"\"}, \"colorscale\": [[0.0, \"#0d0887\"], [0.1111111111111111, \"#46039f\"], [0.2222222222222222, \"#7201a8\"], [0.3333333333333333, \"#9c179e\"], [0.4444444444444444, \"#bd3786\"], [0.5555555555555556, \"#d8576b\"], [0.6666666666666666, \"#ed7953\"], [0.7777777777777778, \"#fb9f3a\"], [0.8888888888888888, \"#fdca26\"], [1.0, \"#f0f921\"]], \"type\": \"histogram2dcontour\"}], \"mesh3d\": [{\"colorbar\": {\"outlinewidth\": 0, \"ticks\": \"\"}, \"type\": \"mesh3d\"}], \"parcoords\": [{\"line\": {\"colorbar\": {\"outlinewidth\": 0, \"ticks\": \"\"}}, \"type\": \"parcoords\"}], \"pie\": [{\"automargin\": true, \"type\": \"pie\"}], \"scatter\": [{\"marker\": {\"colorbar\": {\"outlinewidth\": 0, \"ticks\": \"\"}}, \"type\": \"scatter\"}], \"scatter3d\": [{\"line\": {\"colorbar\": {\"outlinewidth\": 0, \"ticks\": \"\"}}, \"marker\": {\"colorbar\": {\"outlinewidth\": 0, \"ticks\": \"\"}}, \"type\": \"scatter3d\"}], \"scattercarpet\": [{\"marker\": {\"colorbar\": {\"outlinewidth\": 0, \"ticks\": \"\"}}, \"type\": \"scattercarpet\"}], \"scattergeo\": [{\"marker\": {\"colorbar\": {\"outlinewidth\": 0, \"ticks\": \"\"}}, \"type\": \"scattergeo\"}], \"scattergl\": [{\"marker\": {\"colorbar\": {\"outlinewidth\": 0, \"ticks\": \"\"}}, \"type\": \"scattergl\"}], \"scattermapbox\": [{\"marker\": {\"colorbar\": {\"outlinewidth\": 0, \"ticks\": \"\"}}, \"type\": \"scattermapbox\"}], \"scatterpolar\": [{\"marker\": {\"colorbar\": {\"outlinewidth\": 0, \"ticks\": \"\"}}, \"type\": \"scatterpolar\"}], \"scatterpolargl\": [{\"marker\": {\"colorbar\": {\"outlinewidth\": 0, \"ticks\": \"\"}}, \"type\": \"scatterpolargl\"}], \"scatterternary\": [{\"marker\": {\"colorbar\": {\"outlinewidth\": 0, \"ticks\": \"\"}}, \"type\": \"scatterternary\"}], \"surface\": [{\"colorbar\": {\"outlinewidth\": 0, \"ticks\": \"\"}, \"colorscale\": [[0.0, \"#0d0887\"], [0.1111111111111111, \"#46039f\"], [0.2222222222222222, \"#7201a8\"], [0.3333333333333333, \"#9c179e\"], [0.4444444444444444, \"#bd3786\"], [0.5555555555555556, \"#d8576b\"], [0.6666666666666666, \"#ed7953\"], [0.7777777777777778, \"#fb9f3a\"], [0.8888888888888888, \"#fdca26\"], [1.0, \"#f0f921\"]], \"type\": \"surface\"}], \"table\": [{\"cells\": {\"fill\": {\"color\": \"#EBF0F8\"}, \"line\": {\"color\": \"white\"}}, \"header\": {\"fill\": {\"color\": \"#C8D4E3\"}, \"line\": {\"color\": \"white\"}}, \"type\": \"table\"}]}, \"layout\": {\"annotationdefaults\": {\"arrowcolor\": \"#2a3f5f\", \"arrowhead\": 0, \"arrowwidth\": 1}, \"coloraxis\": {\"colorbar\": {\"outlinewidth\": 0, \"ticks\": \"\"}}, \"colorscale\": {\"diverging\": [[0, \"#8e0152\"], [0.1, \"#c51b7d\"], [0.2, \"#de77ae\"], [0.3, \"#f1b6da\"], [0.4, \"#fde0ef\"], [0.5, \"#f7f7f7\"], [0.6, \"#e6f5d0\"], [0.7, \"#b8e186\"], [0.8, \"#7fbc41\"], [0.9, \"#4d9221\"], [1, \"#276419\"]], \"sequential\": [[0.0, \"#0d0887\"], [0.1111111111111111, \"#46039f\"], [0.2222222222222222, \"#7201a8\"], [0.3333333333333333, \"#9c179e\"], [0.4444444444444444, \"#bd3786\"], [0.5555555555555556, \"#d8576b\"], [0.6666666666666666, \"#ed7953\"], [0.7777777777777778, \"#fb9f3a\"], [0.8888888888888888, \"#fdca26\"], [1.0, \"#f0f921\"]], \"sequentialminus\": [[0.0, \"#0d0887\"], [0.1111111111111111, \"#46039f\"], [0.2222222222222222, \"#7201a8\"], [0.3333333333333333, \"#9c179e\"], [0.4444444444444444, \"#bd3786\"], [0.5555555555555556, \"#d8576b\"], [0.6666666666666666, \"#ed7953\"], [0.7777777777777778, \"#fb9f3a\"], [0.8888888888888888, \"#fdca26\"], [1.0, \"#f0f921\"]]}, \"colorway\": [\"#636efa\", \"#EF553B\", \"#00cc96\", \"#ab63fa\", \"#FFA15A\", \"#19d3f3\", \"#FF6692\", \"#B6E880\", \"#FF97FF\", \"#FECB52\"], \"font\": {\"color\": \"#2a3f5f\"}, \"geo\": {\"bgcolor\": \"white\", \"lakecolor\": \"white\", \"landcolor\": \"#E5ECF6\", \"showlakes\": true, \"showland\": true, \"subunitcolor\": \"white\"}, \"hoverlabel\": {\"align\": \"left\"}, \"hovermode\": \"closest\", \"mapbox\": {\"style\": \"light\"}, \"paper_bgcolor\": \"white\", \"plot_bgcolor\": \"#E5ECF6\", \"polar\": {\"angularaxis\": {\"gridcolor\": \"white\", \"linecolor\": \"white\", \"ticks\": \"\"}, \"bgcolor\": \"#E5ECF6\", \"radialaxis\": {\"gridcolor\": \"white\", \"linecolor\": \"white\", \"ticks\": \"\"}}, \"scene\": {\"xaxis\": {\"backgroundcolor\": \"#E5ECF6\", \"gridcolor\": \"white\", \"gridwidth\": 2, \"linecolor\": \"white\", \"showbackground\": true, \"ticks\": \"\", \"zerolinecolor\": \"white\"}, \"yaxis\": {\"backgroundcolor\": \"#E5ECF6\", \"gridcolor\": \"white\", \"gridwidth\": 2, \"linecolor\": \"white\", \"showbackground\": true, \"ticks\": \"\", \"zerolinecolor\": \"white\"}, \"zaxis\": {\"backgroundcolor\": \"#E5ECF6\", \"gridcolor\": \"white\", \"gridwidth\": 2, \"linecolor\": \"white\", \"showbackground\": true, \"ticks\": \"\", \"zerolinecolor\": \"white\"}}, \"shapedefaults\": {\"line\": {\"color\": \"#2a3f5f\"}}, \"ternary\": {\"aaxis\": {\"gridcolor\": \"white\", \"linecolor\": \"white\", \"ticks\": \"\"}, \"baxis\": {\"gridcolor\": \"white\", \"linecolor\": \"white\", \"ticks\": \"\"}, \"bgcolor\": \"#E5ECF6\", \"caxis\": {\"gridcolor\": \"white\", \"linecolor\": \"white\", \"ticks\": \"\"}}, \"title\": {\"x\": 0.05}, \"xaxis\": {\"automargin\": true, \"gridcolor\": \"white\", \"linecolor\": \"white\", \"ticks\": \"\", \"title\": {\"standoff\": 15}, \"zerolinecolor\": \"white\", \"zerolinewidth\": 2}, \"yaxis\": {\"automargin\": true, \"gridcolor\": \"white\", \"linecolor\": \"white\", \"ticks\": \"\", \"title\": {\"standoff\": 15}, \"zerolinecolor\": \"white\", \"zerolinewidth\": 2}}}, \"title\": {\"text\": \"Explained Variance\"}, \"xaxis\": {\"anchor\": \"y\", \"domain\": [0.0, 1.0], \"title\": {\"text\": \"index\"}}, \"yaxis\": {\"anchor\": \"x\", \"domain\": [0.0, 1.0], \"title\": {\"text\": \"value\"}}},\n",
       "                        {\"responsive\": true}\n",
       "                    ).then(function(){\n",
       "                            \n",
       "var gd = document.getElementById('c9d9a785-276d-4367-96ff-90aaebdb5f49');\n",
       "var x = new MutationObserver(function (mutations, observer) {{\n",
       "        var display = window.getComputedStyle(gd).display;\n",
       "        if (!display || display === 'none') {{\n",
       "            console.log([gd, 'removed!']);\n",
       "            Plotly.purge(gd);\n",
       "            observer.disconnect();\n",
       "        }}\n",
       "}});\n",
       "\n",
       "// Listen for the removal of the full notebook cells\n",
       "var notebookContainer = gd.closest('#notebook-container');\n",
       "if (notebookContainer) {{\n",
       "    x.observe(notebookContainer, {childList: true});\n",
       "}}\n",
       "\n",
       "// Listen for the clearing of the current output cell\n",
       "var outputEl = gd.closest('.output');\n",
       "if (outputEl) {{\n",
       "    x.observe(outputEl, {childList: true});\n",
       "}}\n",
       "\n",
       "                        })\n",
       "                };\n",
       "                });\n",
       "            </script>\n",
       "        </div>"
      ]
     },
     "metadata": {},
     "output_type": "display_data"
    }
   ],
   "source": [
    "class principal_component_analysis:\n",
    "    def fit(self,X,n):\n",
    "        #make mean 0\n",
    "        for col in df.columns:\n",
    "            df[col]= df[col] - df[col].mean()\n",
    "        \n",
    "        # find covariance matrix\n",
    "        df_cov= df.cov()\n",
    "        \n",
    "        # find eigen vectors and values\n",
    "        values,vectors = np.linalg.eig(df.cov())\n",
    "        # since first three features can explained almost 80% + variance, we will select the first 3\n",
    "        \n",
    "        # performing linear transformation\n",
    "        linearly_transformed_df= pd.DataFrame(np.dot(df,vectors[:n].T))\n",
    "        explained_variance=[]\n",
    "        for i in range(len(values)):\n",
    "            explained_variance.append(values[i]/np.sum(values) *100)\n",
    "        display(px.bar(explained_variance,title='Explained Variance'))\n",
    "        return linearly_transformed_df\n",
    "        \n",
    "pca= principal_component_analysis()\n",
    "n=2\n",
    "transformed_df= pca.fit(df,n)\n"
   ]
  },
  {
   "cell_type": "markdown",
   "metadata": {},
   "source": [
    "## Now we can apply algorithms to classify the data"
   ]
  },
  {
   "cell_type": "code",
   "execution_count": 168,
   "metadata": {},
   "outputs": [
    {
     "data": {
      "application/vnd.plotly.v1+json": {
       "config": {
        "plotlyServerURL": "https://plot.ly"
       },
       "data": [
        {
         "marker": {
          "color": [
           1,
           0,
           0,
           1,
           0,
           1,
           0,
           0,
           0,
           0,
           1,
           0,
           0,
           1,
           1,
           0,
           1,
           0,
           0,
           0,
           1,
           0,
           1,
           1,
           0,
           1,
           1,
           1,
           0,
           1,
           0,
           1,
           0,
           0,
           1,
           1,
           0,
           1,
           1,
           0,
           0,
           0,
           1,
           1,
           0,
           1,
           1,
           0,
           0,
           0,
           0,
           1,
           1,
           0,
           0,
           1,
           0,
           0,
           0,
           1,
           1,
           0,
           1,
           1,
           0,
           0,
           1,
           0,
           0,
           0,
           0,
           1,
           0,
           1,
           1,
           0,
           1,
           0,
           0,
           0,
           1,
           0,
           1,
           0,
           0,
           1,
           1,
           1,
           1,
           1,
           1,
           0,
           0,
           1,
           0,
           1,
           1,
           0,
           1,
           0,
           0,
           1,
           1,
           1,
           1,
           0,
           0,
           0,
           1,
           0,
           1,
           0,
           0,
           1,
           1,
           0,
           1,
           0,
           1,
           0,
           0,
           1,
           1,
           0,
           0,
           1,
           1,
           0,
           1,
           1,
           1,
           0,
           0,
           0,
           1,
           0,
           0,
           0,
           1,
           0,
           0,
           0,
           0,
           1,
           1,
           1,
           0,
           0,
           1,
           0,
           0,
           1,
           0,
           1,
           0,
           0,
           1,
           0,
           1,
           1,
           0,
           1,
           1,
           1,
           0,
           0,
           1,
           0,
           1,
           0,
           1,
           1,
           1,
           1,
           1,
           0,
           1,
           1,
           1,
           1,
           0,
           1,
           1,
           0,
           0,
           0,
           0,
           0,
           1,
           1,
           1,
           1,
           1,
           0,
           0,
           0,
           1,
           1,
           0,
           0,
           1,
           1,
           1,
           1,
           0,
           0,
           1,
           0,
           1,
           0,
           1,
           0,
           0,
           0,
           1,
           1,
           0,
           1,
           1,
           1,
           1,
           0,
           1,
           0,
           1,
           0,
           1,
           0,
           1,
           0,
           0,
           0,
           1,
           0,
           1,
           1,
           1,
           0,
           0,
           0,
           1,
           0,
           0,
           1,
           1,
           1,
           0,
           0,
           1,
           1,
           1,
           0,
           1,
           1,
           1,
           0,
           0,
           1,
           0,
           1,
           0,
           0,
           0,
           0,
           0,
           0,
           1,
           1,
           1,
           1,
           0,
           1,
           1,
           0,
           1,
           0,
           1,
           0,
           1,
           1,
           0,
           1,
           0,
           1,
           1,
           1,
           1,
           1,
           0,
           0,
           0,
           1,
           1,
           1,
           0,
           0,
           0,
           0,
           0,
           0,
           0,
           0,
           0,
           0,
           1,
           0,
           0,
           0,
           0,
           0,
           0,
           0,
           1,
           1,
           0,
           0,
           1,
           0,
           1,
           0,
           1,
           1,
           0,
           0,
           1,
           0,
           1,
           0,
           1,
           0,
           0,
           1,
           0,
           0,
           0,
           1,
           0,
           0,
           0,
           1,
           1,
           0,
           1,
           1,
           1,
           0,
           1,
           0,
           1,
           1,
           0,
           0,
           1,
           1,
           0,
           0,
           1,
           1,
           0,
           0,
           1,
           0,
           1,
           1,
           0,
           1,
           0,
           1,
           0,
           0,
           0,
           1,
           1,
           1,
           1,
           0,
           0,
           1,
           1,
           0,
           1,
           0,
           1,
           0,
           1,
           0,
           1,
           0,
           1,
           0,
           1,
           1,
           0,
           0,
           1,
           0,
           0,
           0,
           1,
           1,
           1,
           0,
           0,
           1,
           1,
           1,
           0,
           0,
           0,
           0,
           0,
           0,
           0,
           0,
           0,
           0,
           1,
           0,
           0,
           1,
           0,
           1,
           0,
           1,
           1,
           0,
           0,
           0,
           1,
           0,
           0,
           1,
           1,
           0,
           1,
           0,
           1,
           0,
           1,
           0,
           0,
           0,
           1,
           1,
           1,
           1,
           1,
           1,
           1,
           0,
           0,
           1,
           1,
           0,
           1,
           0,
           1,
           1,
           0,
           1,
           0,
           1,
           1,
           1,
           1,
           1,
           1,
           1,
           0,
           1,
           0,
           1,
           0,
           1,
           1,
           1,
           0,
           0,
           1,
           0,
           0,
           1,
           1,
           1,
           1,
           0,
           1,
           1,
           1,
           0,
           0,
           0,
           1,
           1,
           1,
           1,
           1,
           1,
           1,
           0
          ]
         },
         "mode": "markers",
         "name": "post",
         "type": "scatter",
         "x": [
          -7.428299953816848,
          8.374834313561296,
          11.404027439423517,
          -8.966111767245536,
          5.79739855135976,
          -5.1508012670074415,
          -0.6397202479314783,
          4.529071572188459,
          0.8510803802894601,
          7.129420512789594,
          -9.989458341353128,
          6.062778722329594,
          7.032646408352942,
          -4.878896756550278,
          -4.9302020424471,
          3.8882874248625576,
          -10.870159299022394,
          12.928131874681739,
          5.54307950229199,
          10.59799397420195,
          -7.151543971413375,
          6.938931532532935,
          -5.537962419799775,
          -5.528639277113003,
          7.456668841693908,
          -8.723548007892113,
          -4.785591986204449,
          -13.430464465730148,
          6.418103457306064,
          -1.2912637003747054,
          8.712546299443652,
          -5.869327573216503,
          7.876073464650707,
          9.325618862891968,
          -4.464194092111816,
          -10.620812271018822,
          8.600639711874877,
          -8.065231562587066,
          -8.931897537673962,
          7.387429918583594,
          9.462174473104483,
          4.987656050881021,
          -3.794507662000814,
          -11.508006803050804,
          4.252247190286415,
          -5.364461431270562,
          -6.211041600532642,
          10.14055070011213,
          3.676981455707071,
          9.464758519724816,
          6.949261034631155,
          -9.378066946896059,
          -13.165689361949369,
          12.758921444935902,
          -1.5986365137988292,
          -6.574881741443124,
          12.474264483055627,
          11.49114881695483,
          6.0144126655388686,
          -3.385235967655087,
          -5.372119523681342,
          10.074130636170462,
          -4.0903127638222685,
          -6.79017852838077,
          8.730606305346692,
          8.388107538089065,
          -8.301860951338794,
          0.8886333038672487,
          7.284096520136986,
          4.309703564612448,
          9.428983303613379,
          -5.9566231612233675,
          4.95814641690391,
          -3.8833908427088333,
          -5.36106741627154,
          3.2533719487495567,
          -6.3968892496261525,
          3.467383111473639,
          9.121263508433122,
          5.369776538153874,
          -6.498226494129063,
          3.572919101316186,
          -7.223198751165619,
          5.943117101648066,
          12.837511003926375,
          -6.729328928614154,
          -6.79434121521894,
          0.8034205082290099,
          -9.895772839871611,
          -11.185818073170037,
          -3.983415085754818,
          5.434482525577643,
          10.598659701179812,
          -7.3837366920459635,
          5.768436601125816,
          -7.665005216292434,
          -3.5848762185588177,
          4.555743743188963,
          -2.7760832496042855,
          6.43302699181335,
          7.499278363784715,
          -1.5253346853438468,
          -6.112589119685037,
          -7.952264875202932,
          -9.830863441683178,
          7.798107924919866,
          7.78085819498115,
          5.751723349434436,
          -9.34850882579434,
          11.473277664444915,
          -10.451778303130238,
          7.514153207365551,
          7.1227431692742815,
          -15.508222536255072,
          -5.81464680344094,
          6.234935254501697,
          -11.962616049710192,
          5.638784128685672,
          -5.755827023387951,
          4.151051603225785,
          4.5192711471046545,
          -0.8133670776432337,
          -7.432097809924292,
          8.698191507145886,
          4.122489416220344,
          -4.840440359382003,
          -10.509956948984598,
          10.32693323701763,
          -9.525642800594103,
          -7.107731492099467,
          -9.256164887197642,
          13.543853685710458,
          7.217711693075573,
          6.690040081530738,
          -6.1921585803648425,
          4.9506618861972544,
          3.291086611544579,
          10.474671555246799,
          -11.926891496946038,
          5.103308302937786,
          8.099397199969047,
          7.202396479967844,
          10.180719212732592,
          -6.894320312801881,
          -8.405390124118574,
          -4.765821953268213,
          8.685187144061429,
          7.796899070374661,
          -2.2532283834882225,
          3.52474326470084,
          2.9782661905881307,
          -11.643162951707188,
          11.106122621565097,
          -7.488884021962091,
          9.903756857839989,
          9.956707062159857,
          -9.79331488157083,
          10.126886975919469,
          -4.459689445621764,
          -9.459898501865714,
          5.320504761658784,
          -12.138099442750732,
          -4.950426387160747,
          -3.9633748871181718,
          5.103894563811574,
          12.730771207007312,
          -5.393531831467359,
          9.715789388647782,
          -5.564573043375285,
          8.435676196285119,
          -4.243185039114777,
          -7.1084453282600615,
          -9.510126368378762,
          -5.048308498490306,
          -7.035676504090491,
          8.828308275900838,
          -6.862473493402941,
          -3.9806408754452254,
          -7.298149731529508,
          -7.830945474966541,
          3.353589888108281,
          -9.168765860801555,
          -3.717246656726247,
          3.910482502617679,
          5.9765992035338975,
          8.809142113231003,
          10.434986496228658,
          8.738446656746799,
          -5.930931127855209,
          -14.01321280075357,
          -6.9242401994703,
          -6.000207129184044,
          -13.987803974789589,
          7.267249565982581,
          11.216269104913923,
          4.771289542380876,
          -11.58050902462386,
          -9.374674597905088,
          6.317846395592632,
          12.033691046253779,
          -5.7629015902465355,
          -10.492252332636422,
          -6.843611387678973,
          -3.4680774386031317,
          6.779481180255019,
          8.6118468089108,
          -5.994086108303573,
          2.9236925192966803,
          -7.22898929171501,
          7.18447877304106,
          -7.468781513451658,
          2.411354906401492,
          3.821266353050892,
          5.194106254963764,
          -9.034760242986259,
          -10.413387232607302,
          4.386485468170444,
          -7.235393377941598,
          -10.598349043606527,
          -11.06370734642028,
          -5.4090473172348785,
          5.61385524989962,
          -11.853449324439243,
          13.938961612972221,
          -8.299124679698046,
          8.912645797295466,
          -2.2855079911694993,
          1.969332885219087,
          -5.7316252163158286,
          6.4759209819421635,
          5.614072393428813,
          6.72682541961888,
          -4.816000291088928,
          13.029031198868346,
          -10.339735520779666,
          -4.974032344091197,
          -4.82310260423096,
          8.173556421418274,
          4.327200926895194,
          8.064577465372036,
          -2.6165134769928144,
          8.978174493175938,
          7.265510845810274,
          -4.298809869479595,
          -6.283362269140284,
          -8.266847357462218,
          7.237569186758488,
          7.490629705044936,
          -7.086405130090979,
          -8.442949750577862,
          -5.030055422786064,
          9.682675394360786,
          -11.456007818774104,
          -8.472912431316363,
          -5.821710622559128,
          6.422953617565276,
          9.93612459304762,
          -9.818022238975212,
          7.207841384808994,
          -7.95845657136309,
          9.1645674934203,
          11.134715470835218,
          5.948082318335878,
          6.707562069823213,
          8.009916989173314,
          1.3951746156421374,
          -12.274085040425758,
          -7.761507582502149,
          -0.5612164932862406,
          -12.101882395484907,
          7.875783464190766,
          -5.803372282948012,
          -11.194360430558397,
          4.485408418609803,
          -7.228814507707797,
          -1.0660751314099854,
          -3.4082740378248806,
          13.49845545028015,
          -4.516894303792066,
          -7.976389342780047,
          8.417392782489538,
          -5.652470432687734,
          9.01475837665508,
          -7.729768663514436,
          -8.7574163416849,
          -4.561484736056578,
          -13.99861976888874,
          -5.866216677348089,
          7.932447127577321,
          7.656623449626842,
          7.5946379266356505,
          -5.674028529329155,
          -4.475783174940349,
          -3.187936779798765,
          4.089161199380317,
          6.692998153765856,
          5.702444500464969,
          7.8680888915810945,
          8.098728251633212,
          6.373562097963806,
          6.904251091161276,
          7.5270580105259,
          8.200616559879027,
          4.0707383302549145,
          -2.2099132388109552,
          7.250555246122046,
          5.519373270462982,
          7.467134774893252,
          5.852442704463975,
          6.300816031304959,
          6.011662605950827,
          2.9400085810781973,
          -8.994576891449874,
          -9.403979196048537,
          5.547569392732725,
          8.998079734527568,
          -11.617293301669447,
          7.538445811971849,
          -7.757236903496241,
          11.410256604256276,
          -3.852022200235473,
          -4.958607823833648,
          4.135908981841351,
          9.98330324475091,
          -6.695083569451272,
          6.6951407410572115,
          -3.293086035202328,
          7.453506010713902,
          -5.349663314830822,
          14.917144410190495,
          12.481640015730674,
          -9.071773496934739,
          9.582535971795165,
          10.649841240552785,
          8.51790135985921,
          -10.260404770333412,
          6.0221975361600775,
          10.031848059814635,
          8.292881219667304,
          -2.8212946029891777,
          -5.3166629833733,
          9.765725940256953,
          -9.531703564742624,
          -4.508071945223303,
          -8.521312692824267,
          8.886467709178932,
          -7.983237042916492,
          10.089685186602566,
          -10.76137811337593,
          -12.381162981868604,
          7.783839558084553,
          6.21245789053024,
          -4.948032732761055,
          -8.383704544665942,
          6.701144968825506,
          9.026028336591047,
          -8.379563694265396,
          -8.513945804438835,
          5.228783545363728,
          4.6985010040721065,
          -5.139286044604909,
          -0.022413611178958792,
          -8.73764874911997,
          -16.429553193002008,
          12.816316957207054,
          -7.732640514917186,
          8.979931381674215,
          -7.480340230271118,
          7.836869902499352,
          5.89641015673832,
          4.69289589319594,
          -10.296875418768721,
          -8.774584746682555,
          -0.01028522060024617,
          -5.657110400495942,
          10.699563370963496,
          8.17059498267285,
          -5.5874744183955745,
          -8.840598111491314,
          4.624055289433467,
          -10.102215406751457,
          2.131471114216368,
          -5.983366689892055,
          2.4355012751165006,
          -10.162030725814262,
          7.00298519998511,
          -6.078892289592665,
          3.4705743686414907,
          -11.591029831804311,
          6.949191867294603,
          -4.321956404293193,
          -2.174729131639418,
          9.675430729584722,
          4.464583923411568,
          -8.177863269867107,
          8.6755642807211,
          9.737954513155703,
          4.979609280459332,
          -11.355557479557412,
          -7.612062422284769,
          -8.503958337772607,
          11.882268178559249,
          7.179212118801192,
          -3.2386700976900418,
          -11.431532946372151,
          -7.862600179727738,
          10.337621641959,
          8.621690207343477,
          9.90258374222254,
          4.3030686299885925,
          4.83893165875657,
          2.1770154572450346,
          3.5872978592253473,
          13.26964719450689,
          4.944908802066624,
          4.973098794052735,
          3.5662106233147712,
          7.568507844970053,
          7.141852741790441,
          -10.25581449343628,
          6.390672773804021,
          -11.138100088920993,
          5.1352096125771105,
          -10.49252821157594,
          -3.011281790410162,
          9.55365927833467,
          4.345059551556758,
          9.034813455159075,
          -10.613109663608416,
          9.978351878603963,
          13.106024791306508,
          -7.973306881044891,
          -4.553804257803504,
          6.218900204491357,
          -8.131490927253608,
          9.587359938194572,
          -6.837775755010942,
          5.046801627541688,
          -12.735863278843754,
          5.9685591748357165,
          8.14101559223841,
          2.5523504195595605,
          -4.227403252557107,
          -6.052895931905481,
          -10.676971629046662,
          -6.550087264145898,
          -6.447211782591623,
          -8.772377205546883,
          -9.16786928510934,
          4.939675130219857,
          8.781980249858183,
          -5.183438624345034,
          -9.505133230613557,
          10.406346101562551,
          -8.013695001722201,
          10.766163355535031,
          -1.518999723674634,
          -10.435221868861799,
          4.162467901380248,
          -7.406941366842962,
          5.483185886811029,
          -6.04158814791796,
          -7.711441610451294,
          -1.907308375377332,
          -6.417273712339872,
          -6.497996180122149,
          -8.099938764375285,
          -11.571831245906269,
          7.802765425466355,
          -3.1697245141248453,
          10.90586021755101,
          -5.71586743391938,
          9.82344291082346,
          -6.720541993282423,
          -9.522173633294631,
          -9.922311323110657,
          6.693975541311686,
          7.739723796207286,
          2.088647851178254,
          5.929220388478447,
          10.65268600794257,
          -5.791455779917038,
          -5.5422375231770875,
          -2.6455138290759264,
          -6.878303417635092,
          3.5375985049165157,
          -7.604451820307563,
          -3.0435636641260984,
          -7.509300085996745,
          2.2538073065469315,
          8.143965501517831,
          9.889118250742674,
          -4.120020302915849,
          -3.049948491748824,
          -9.469729178230175,
          -13.828863914531963,
          -11.381064658063119,
          -11.533276073712939,
          -11.665540726284544,
          6.622997060441216
         ],
         "y": [
          -8.442864447572621,
          5.4858876421903595,
          0.19943679781881984,
          -4.167563100088925,
          10.251118442369775,
          -4.30726796505898,
          11.333599398305855,
          2.891537933376289,
          2.2206509251681434,
          4.484296872208039,
          -2.3584225384166992,
          2.8246738390281507,
          1.3730847107485906,
          -2.3927261745199178,
          -2.9397163531786177,
          4.767200208907575,
          -3.6235671490722186,
          4.762894372891391,
          5.717082452360412,
          3.7984704081754486,
          -5.755144591018352,
          7.54184089415656,
          -5.241537575934775,
          -5.525668946873575,
          3.042264472799828,
          -3.921801086668432,
          2.06297935641118,
          -4.21353627951278,
          6.599290272305308,
          -2.7843493210787216,
          7.840111465489482,
          -4.411798595331582,
          5.8702895428441515,
          6.965089586282788,
          -11.584751026560383,
          -0.23450345452763033,
          5.029916939293807,
          -2.335239308736398,
          -3.6148464816170156,
          2.650689540174202,
          6.6066811579942275,
          7.102045526704039,
          -2.874372307955718,
          -1.4387125421551579,
          2.1059822349350803,
          -5.939302032477669,
          -7.090057670750642,
          5.272734451719495,
          5.918448938220835,
          8.102079066970589,
          2.271355375334615,
          -3.1009135108089336,
          -11.77386910574507,
          3.9320278817364382,
          1.480710723279067,
          -3.0500129811445857,
          6.224907340693537,
          6.583850361828386,
          7.445097746512966,
          -0.4587695914594876,
          -2.9432541714363394,
          -0.859355087977046,
          -4.429597247365006,
          -4.800626345744194,
          6.2907935423307215,
          5.363885914071156,
          -1.168691895396782,
          9.572798129033096,
          0.7061838397026543,
          -0.384380949646296,
          4.229521422781296,
          -4.956189614162296,
          0.7882595939167765,
          -6.896467049066629,
          0.5987715672295446,
          5.314791194552043,
          -5.859283720541136,
          2.1034775796388274,
          0.6770215455105815,
          4.32289746560307,
          -8.671930620221836,
          8.853169885184627,
          -3.5190950075205474,
          3.5828668437247595,
          2.0708833774994373,
          -7.557833075342188,
          -7.189784136526305,
          -5.089132057375486,
          -4.364433855625563,
          -6.15805364252715,
          -3.1594640818741464,
          5.012229399427188,
          -0.3448822824661453,
          -3.335264056107709,
          4.881958284494388,
          -6.482405201485958,
          -4.791891663791885,
          5.045993739518353,
          -4.942487494535234,
          0.06787244503288281,
          3.3428574200661125,
          -4.211632979983891,
          -0.08103162457209212,
          -3.428433000349157,
          -6.857829322211801,
          9.493115531121413,
          1.9899533676520915,
          6.8518372963096645,
          -8.1129834638514,
          7.289776299658206,
          -3.2855973394725333,
          0.3437040206815706,
          2.0267568065523482,
          -2.1205648943828628,
          -2.9677262912845856,
          1.1116182209333398,
          -5.156692204150701,
          5.921734527963359,
          -1.0331847537790553,
          -0.7639308353877013,
          1.6715244492889552,
          -9.975825721220646,
          -6.75950707598073,
          8.724377402487976,
          7.66409548490457,
          -0.06324233404573665,
          -5.681281974431796,
          6.034924739266806,
          -7.913099827290486,
          -3.462761749379861,
          -11.359430854787014,
          6.12334780307212,
          -1.0484115708205892,
          8.177607246929895,
          -1.8909611880416972,
          3.3022037420882784,
          -0.7433749683366944,
          7.508596093705189,
          -4.982317405073619,
          4.7541384358676915,
          0.3980800866464691,
          5.602546281005337,
          5.782046943644994,
          -2.0908454927088944,
          -1.069447996982571,
          -5.938051537828582,
          2.7709204123974933,
          6.318313146199086,
          -7.791196383002482,
          3.972925459652765,
          4.0648862944834585,
          -8.282808834968346,
          8.026388632088429,
          -6.652816168758697,
          0.4552935819902317,
          -1.3670140609547468,
          -5.5243487674662495,
          4.541438359136658,
          -4.435926941988958,
          -3.9958033724280884,
          0.5673157945527751,
          -4.819732403144253,
          -6.024196628454746,
          -4.30920771711968,
          6.6620367502080065,
          1.0935484983803327,
          -1.9047726251204455,
          8.178571059141897,
          0.4344269742378106,
          11.023990984992697,
          1.2395718046116415,
          -2.503069873281175,
          -2.833184975098386,
          -11.475578301700509,
          1.6646695597544183,
          3.291972543388523,
          -3.7757661083973204,
          -6.213975098321675,
          0.4810878421123798,
          -8.257623427460738,
          2.4981364359413085,
          -0.25878323390570607,
          -1.3659049752452972,
          5.652107569618321,
          6.184189447700142,
          5.477008267401022,
          4.837532157195021,
          6.737167564595751,
          -7.490496654018221,
          -6.8856905805228354,
          -10.027709650687893,
          -6.7433072967877905,
          -5.038991878798526,
          -2.8121814238410097,
          9.429520502987165,
          2.851391130561162,
          -3.6045401583858587,
          -4.678513547237549,
          6.349257003988095,
          -1.996010378218935,
          -11.069089191528448,
          -6.602700019017506,
          -3.3549288148486616,
          -6.035264896221983,
          6.0865267390398845,
          5.738150096318503,
          -8.396690405708727,
          3.150597478582556,
          -7.334793824329113,
          8.098251582651471,
          -6.2193234166788915,
          2.2918973161656595,
          4.6920449642039035,
          3.3556875449257086,
          -4.321185763788836,
          -6.042600742312037,
          -0.4719599418750382,
          -11.34937727692137,
          -5.141346359147754,
          -7.978370990145617,
          -1.8230066139713161,
          0.40412767801583804,
          -8.554291740076504,
          4.694856894870954,
          -3.470022214371747,
          6.942899142577904,
          -11.023796949081335,
          3.7521558474329364,
          -7.723882542730754,
          5.722367411624624,
          5.356994401532575,
          2.158076118221308,
          -2.4514196036657867,
          2.90262687009127,
          -4.107140521643696,
          -6.649481321860149,
          -5.564152182629594,
          6.327029557712844,
          11.541941330273735,
          7.139193153461335,
          -4.6758538236281915,
          6.366643024900323,
          0.8782532829209677,
          -5.747739711357514,
          -4.375125971007874,
          -6.900636483762513,
          6.960713336572739,
          -7.217845353883017,
          -7.622289448402675,
          -4.841996568681786,
          -10.927553790744422,
          1.5441157499158071,
          -3.4677466859944213,
          -4.872842936892979,
          -6.104537138222043,
          2.641967894232811,
          2.2484266217448936,
          -9.913850750935854,
          -0.725784319346201,
          -6.875835725976328,
          7.869772182318732,
          6.79438915507549,
          2.7992217819858407,
          3.6437487584274546,
          7.08308782526575,
          4.434093720970198,
          -1.3470787888522329,
          -8.113293839877063,
          -4.292856068727042,
          -4.015239381270811,
          8.490599700187214,
          -4.668029664659416,
          2.0044717012375584,
          -0.3632913761908856,
          -5.255272415282155,
          2.456116062433384,
          1.4261569151170215,
          3.544948604448836,
          -5.640767519293943,
          -2.6041605142524995,
          4.354998265030518,
          -5.376854871979183,
          -0.690698996641227,
          -7.169126385867562,
          0.1069987890532429,
          -5.092065229388949,
          -2.271415488456859,
          -12.404881181156114,
          2.7479275292104193,
          7.304134512661799,
          5.73001955654816,
          -13.099615732052637,
          -0.3252129361059415,
          -2.9729806812118102,
          2.462217613389943,
          6.353103860203902,
          6.358309969041644,
          3.9613932156688856,
          3.8576319963455084,
          4.818229344947166,
          -1.4601825256248038,
          6.631039659072252,
          3.450425667966134,
          4.527620147091394,
          -5.04287215705755,
          5.346275817931623,
          7.216749371951001,
          8.559140723622217,
          1.7433870471528679,
          6.699193259119574,
          1.128742792182714,
          6.0084549975932,
          -3.4410502578783264,
          2.4809556847218515,
          7.420208608749007,
          3.2475740216513223,
          -7.096385439699505,
          3.4421204498723963,
          -1.7185885741140199,
          6.2985770800560985,
          -5.797873996615419,
          0.1047441744196767,
          2.371781259830807,
          -0.08661745267366827,
          -2.495961682356458,
          4.888372402744666,
          -2.9832929840690587,
          3.3175048219186207,
          -3.5228504259537305,
          3.3560783310222613,
          0.7465717093763842,
          -2.6479621304338936,
          7.99350960447289,
          3.151289911336254,
          6.011927377283968,
          0.6349542136060855,
          7.080895067556722,
          5.5726262001948035,
          -0.9957259461391168,
          -4.746508340472205,
          2.229432306002494,
          6.501365312130915,
          -5.938126653039607,
          -7.340561565191818,
          -1.8485202980551496,
          2.0613287995018736,
          -6.81056556339013,
          0.6521890208989811,
          -3.5397802347791494,
          -6.323844605353468,
          3.7168795819488043,
          2.7759601667503566,
          3.7167995942486636,
          -2.124281094926407,
          2.7783565762733344,
          6.205197089882181,
          -4.0991996280287015,
          -3.4342726148076257,
          1.0989219794002745,
          8.264284456683631,
          -7.496969008221143,
          9.788589681559806,
          -6.394418037314979,
          -2.202396304265651,
          9.565311568657757,
          -6.575373876660455,
          8.021460786013098,
          -6.5399153128654515,
          -0.7680935446488043,
          3.0576627416663147,
          5.478320112109884,
          -2.5372950425923104,
          -0.7024223078407357,
          -2.8569847748564827,
          1.2751845081254165,
          9.370253851728265,
          6.519829530420094,
          -6.920711511970806,
          -8.583901971671086,
          8.869545035774783,
          0.15082440986914714,
          8.811378910710145,
          -2.8672252856577236,
          4.301282096656944,
          -0.8577579264909869,
          0.8607214639213961,
          -3.609887197354567,
          3.8812098615114707,
          -0.5670569469570609,
          9.662918932557703,
          -2.2630525101560024,
          -6.950262247286695,
          2.086121673026507,
          8.629552127436003,
          -3.5158724824831706,
          6.730883670962027,
          4.819166697954985,
          6.743513928242274,
          -2.791062490021554,
          3.1204570322258585,
          2.462534475607331,
          5.932281323155885,
          0.3584334052393685,
          -7.14046629205592,
          -5.869023960660182,
          -3.0385112806013588,
          6.40519728166694,
          5.831345726898909,
          3.547869257628852,
          1.8624906907143681,
          6.636676509035934,
          6.622766659069433,
          10.57174240442546,
          7.155746173178874,
          -2.2957345457689176,
          6.949964006027443,
          -2.94488263575817,
          5.429850542330077,
          5.483506553825185,
          -8.859062409204952,
          4.226913908474938,
          -2.0709975249741364,
          4.414912171129422,
          -5.4588974152782,
          -3.9562107960808683,
          1.4890381669109813,
          7.334527730425551,
          4.6716214948229196,
          -1.6641990874035715,
          -0.5803166448142041,
          10.694606893830468,
          -2.825858811313427,
          -4.901272977613031,
          2.4027683513713685,
          -5.48311203683936,
          1.9526518451603412,
          -5.711967627967719,
          4.0655491433703554,
          -6.663354183774582,
          6.425004036362172,
          7.569473391927851,
          4.899068012589691,
          -3.0752744872883477,
          -5.583977787921555,
          -1.6035973898571556,
          -1.5785446675710728,
          -3.873056909497986,
          -1.8900703307111857,
          -0.754657845320791,
          3.150535734430552,
          -0.49827665979579727,
          -3.4652897378909335,
          -11.350311699141113,
          9.517357590636376,
          -6.520268367184595,
          8.090145831825764,
          -3.0457283213702295,
          -6.072507087971225,
          7.1993835218410505,
          -2.1458617455133537,
          2.673343772217499,
          -5.249535998757778,
          -1.618276796433255,
          -3.205475172681314,
          1.1841156470470566,
          -3.8204379158478163,
          -8.906398687707458,
          -5.007267175374051,
          3.9063456253719115,
          -3.3890134872554833,
          4.469435716306419,
          -2.4880580867377047,
          5.972998285188563,
          -1.750834604744919,
          -7.188028730079882,
          -5.584322452980464,
          -3.0953336715505895,
          1.96153842605911,
          -2.829475086301345,
          4.754105663482095,
          0.43899352517863366,
          -4.080346421206753,
          -3.172280161966369,
          -6.384611165224091,
          -1.8012262236052954,
          -0.04338923790488414,
          -4.106649494175321,
          -2.550073105986403,
          -2.0764938950928826,
          3.51321693848962,
          3.665263232798816,
          2.3021459482721607,
          -5.8335643558325,
          -5.671697016843858,
          -11.600627478812708,
          -4.142124338865673,
          -4.14794727018281,
          -0.5252398406825791,
          -5.859336616619716,
          6.6270618410189615
         ]
        }
       ],
       "layout": {
        "template": {
         "data": {
          "bar": [
           {
            "error_x": {
             "color": "#2a3f5f"
            },
            "error_y": {
             "color": "#2a3f5f"
            },
            "marker": {
             "line": {
              "color": "#E5ECF6",
              "width": 0.5
             }
            },
            "type": "bar"
           }
          ],
          "barpolar": [
           {
            "marker": {
             "line": {
              "color": "#E5ECF6",
              "width": 0.5
             }
            },
            "type": "barpolar"
           }
          ],
          "carpet": [
           {
            "aaxis": {
             "endlinecolor": "#2a3f5f",
             "gridcolor": "white",
             "linecolor": "white",
             "minorgridcolor": "white",
             "startlinecolor": "#2a3f5f"
            },
            "baxis": {
             "endlinecolor": "#2a3f5f",
             "gridcolor": "white",
             "linecolor": "white",
             "minorgridcolor": "white",
             "startlinecolor": "#2a3f5f"
            },
            "type": "carpet"
           }
          ],
          "choropleth": [
           {
            "colorbar": {
             "outlinewidth": 0,
             "ticks": ""
            },
            "type": "choropleth"
           }
          ],
          "contour": [
           {
            "colorbar": {
             "outlinewidth": 0,
             "ticks": ""
            },
            "colorscale": [
             [
              0,
              "#0d0887"
             ],
             [
              0.1111111111111111,
              "#46039f"
             ],
             [
              0.2222222222222222,
              "#7201a8"
             ],
             [
              0.3333333333333333,
              "#9c179e"
             ],
             [
              0.4444444444444444,
              "#bd3786"
             ],
             [
              0.5555555555555556,
              "#d8576b"
             ],
             [
              0.6666666666666666,
              "#ed7953"
             ],
             [
              0.7777777777777778,
              "#fb9f3a"
             ],
             [
              0.8888888888888888,
              "#fdca26"
             ],
             [
              1,
              "#f0f921"
             ]
            ],
            "type": "contour"
           }
          ],
          "contourcarpet": [
           {
            "colorbar": {
             "outlinewidth": 0,
             "ticks": ""
            },
            "type": "contourcarpet"
           }
          ],
          "heatmap": [
           {
            "colorbar": {
             "outlinewidth": 0,
             "ticks": ""
            },
            "colorscale": [
             [
              0,
              "#0d0887"
             ],
             [
              0.1111111111111111,
              "#46039f"
             ],
             [
              0.2222222222222222,
              "#7201a8"
             ],
             [
              0.3333333333333333,
              "#9c179e"
             ],
             [
              0.4444444444444444,
              "#bd3786"
             ],
             [
              0.5555555555555556,
              "#d8576b"
             ],
             [
              0.6666666666666666,
              "#ed7953"
             ],
             [
              0.7777777777777778,
              "#fb9f3a"
             ],
             [
              0.8888888888888888,
              "#fdca26"
             ],
             [
              1,
              "#f0f921"
             ]
            ],
            "type": "heatmap"
           }
          ],
          "heatmapgl": [
           {
            "colorbar": {
             "outlinewidth": 0,
             "ticks": ""
            },
            "colorscale": [
             [
              0,
              "#0d0887"
             ],
             [
              0.1111111111111111,
              "#46039f"
             ],
             [
              0.2222222222222222,
              "#7201a8"
             ],
             [
              0.3333333333333333,
              "#9c179e"
             ],
             [
              0.4444444444444444,
              "#bd3786"
             ],
             [
              0.5555555555555556,
              "#d8576b"
             ],
             [
              0.6666666666666666,
              "#ed7953"
             ],
             [
              0.7777777777777778,
              "#fb9f3a"
             ],
             [
              0.8888888888888888,
              "#fdca26"
             ],
             [
              1,
              "#f0f921"
             ]
            ],
            "type": "heatmapgl"
           }
          ],
          "histogram": [
           {
            "marker": {
             "colorbar": {
              "outlinewidth": 0,
              "ticks": ""
             }
            },
            "type": "histogram"
           }
          ],
          "histogram2d": [
           {
            "colorbar": {
             "outlinewidth": 0,
             "ticks": ""
            },
            "colorscale": [
             [
              0,
              "#0d0887"
             ],
             [
              0.1111111111111111,
              "#46039f"
             ],
             [
              0.2222222222222222,
              "#7201a8"
             ],
             [
              0.3333333333333333,
              "#9c179e"
             ],
             [
              0.4444444444444444,
              "#bd3786"
             ],
             [
              0.5555555555555556,
              "#d8576b"
             ],
             [
              0.6666666666666666,
              "#ed7953"
             ],
             [
              0.7777777777777778,
              "#fb9f3a"
             ],
             [
              0.8888888888888888,
              "#fdca26"
             ],
             [
              1,
              "#f0f921"
             ]
            ],
            "type": "histogram2d"
           }
          ],
          "histogram2dcontour": [
           {
            "colorbar": {
             "outlinewidth": 0,
             "ticks": ""
            },
            "colorscale": [
             [
              0,
              "#0d0887"
             ],
             [
              0.1111111111111111,
              "#46039f"
             ],
             [
              0.2222222222222222,
              "#7201a8"
             ],
             [
              0.3333333333333333,
              "#9c179e"
             ],
             [
              0.4444444444444444,
              "#bd3786"
             ],
             [
              0.5555555555555556,
              "#d8576b"
             ],
             [
              0.6666666666666666,
              "#ed7953"
             ],
             [
              0.7777777777777778,
              "#fb9f3a"
             ],
             [
              0.8888888888888888,
              "#fdca26"
             ],
             [
              1,
              "#f0f921"
             ]
            ],
            "type": "histogram2dcontour"
           }
          ],
          "mesh3d": [
           {
            "colorbar": {
             "outlinewidth": 0,
             "ticks": ""
            },
            "type": "mesh3d"
           }
          ],
          "parcoords": [
           {
            "line": {
             "colorbar": {
              "outlinewidth": 0,
              "ticks": ""
             }
            },
            "type": "parcoords"
           }
          ],
          "pie": [
           {
            "automargin": true,
            "type": "pie"
           }
          ],
          "scatter": [
           {
            "marker": {
             "colorbar": {
              "outlinewidth": 0,
              "ticks": ""
             }
            },
            "type": "scatter"
           }
          ],
          "scatter3d": [
           {
            "line": {
             "colorbar": {
              "outlinewidth": 0,
              "ticks": ""
             }
            },
            "marker": {
             "colorbar": {
              "outlinewidth": 0,
              "ticks": ""
             }
            },
            "type": "scatter3d"
           }
          ],
          "scattercarpet": [
           {
            "marker": {
             "colorbar": {
              "outlinewidth": 0,
              "ticks": ""
             }
            },
            "type": "scattercarpet"
           }
          ],
          "scattergeo": [
           {
            "marker": {
             "colorbar": {
              "outlinewidth": 0,
              "ticks": ""
             }
            },
            "type": "scattergeo"
           }
          ],
          "scattergl": [
           {
            "marker": {
             "colorbar": {
              "outlinewidth": 0,
              "ticks": ""
             }
            },
            "type": "scattergl"
           }
          ],
          "scattermapbox": [
           {
            "marker": {
             "colorbar": {
              "outlinewidth": 0,
              "ticks": ""
             }
            },
            "type": "scattermapbox"
           }
          ],
          "scatterpolar": [
           {
            "marker": {
             "colorbar": {
              "outlinewidth": 0,
              "ticks": ""
             }
            },
            "type": "scatterpolar"
           }
          ],
          "scatterpolargl": [
           {
            "marker": {
             "colorbar": {
              "outlinewidth": 0,
              "ticks": ""
             }
            },
            "type": "scatterpolargl"
           }
          ],
          "scatterternary": [
           {
            "marker": {
             "colorbar": {
              "outlinewidth": 0,
              "ticks": ""
             }
            },
            "type": "scatterternary"
           }
          ],
          "surface": [
           {
            "colorbar": {
             "outlinewidth": 0,
             "ticks": ""
            },
            "colorscale": [
             [
              0,
              "#0d0887"
             ],
             [
              0.1111111111111111,
              "#46039f"
             ],
             [
              0.2222222222222222,
              "#7201a8"
             ],
             [
              0.3333333333333333,
              "#9c179e"
             ],
             [
              0.4444444444444444,
              "#bd3786"
             ],
             [
              0.5555555555555556,
              "#d8576b"
             ],
             [
              0.6666666666666666,
              "#ed7953"
             ],
             [
              0.7777777777777778,
              "#fb9f3a"
             ],
             [
              0.8888888888888888,
              "#fdca26"
             ],
             [
              1,
              "#f0f921"
             ]
            ],
            "type": "surface"
           }
          ],
          "table": [
           {
            "cells": {
             "fill": {
              "color": "#EBF0F8"
             },
             "line": {
              "color": "white"
             }
            },
            "header": {
             "fill": {
              "color": "#C8D4E3"
             },
             "line": {
              "color": "white"
             }
            },
            "type": "table"
           }
          ]
         },
         "layout": {
          "annotationdefaults": {
           "arrowcolor": "#2a3f5f",
           "arrowhead": 0,
           "arrowwidth": 1
          },
          "coloraxis": {
           "colorbar": {
            "outlinewidth": 0,
            "ticks": ""
           }
          },
          "colorscale": {
           "diverging": [
            [
             0,
             "#8e0152"
            ],
            [
             0.1,
             "#c51b7d"
            ],
            [
             0.2,
             "#de77ae"
            ],
            [
             0.3,
             "#f1b6da"
            ],
            [
             0.4,
             "#fde0ef"
            ],
            [
             0.5,
             "#f7f7f7"
            ],
            [
             0.6,
             "#e6f5d0"
            ],
            [
             0.7,
             "#b8e186"
            ],
            [
             0.8,
             "#7fbc41"
            ],
            [
             0.9,
             "#4d9221"
            ],
            [
             1,
             "#276419"
            ]
           ],
           "sequential": [
            [
             0,
             "#0d0887"
            ],
            [
             0.1111111111111111,
             "#46039f"
            ],
            [
             0.2222222222222222,
             "#7201a8"
            ],
            [
             0.3333333333333333,
             "#9c179e"
            ],
            [
             0.4444444444444444,
             "#bd3786"
            ],
            [
             0.5555555555555556,
             "#d8576b"
            ],
            [
             0.6666666666666666,
             "#ed7953"
            ],
            [
             0.7777777777777778,
             "#fb9f3a"
            ],
            [
             0.8888888888888888,
             "#fdca26"
            ],
            [
             1,
             "#f0f921"
            ]
           ],
           "sequentialminus": [
            [
             0,
             "#0d0887"
            ],
            [
             0.1111111111111111,
             "#46039f"
            ],
            [
             0.2222222222222222,
             "#7201a8"
            ],
            [
             0.3333333333333333,
             "#9c179e"
            ],
            [
             0.4444444444444444,
             "#bd3786"
            ],
            [
             0.5555555555555556,
             "#d8576b"
            ],
            [
             0.6666666666666666,
             "#ed7953"
            ],
            [
             0.7777777777777778,
             "#fb9f3a"
            ],
            [
             0.8888888888888888,
             "#fdca26"
            ],
            [
             1,
             "#f0f921"
            ]
           ]
          },
          "colorway": [
           "#636efa",
           "#EF553B",
           "#00cc96",
           "#ab63fa",
           "#FFA15A",
           "#19d3f3",
           "#FF6692",
           "#B6E880",
           "#FF97FF",
           "#FECB52"
          ],
          "font": {
           "color": "#2a3f5f"
          },
          "geo": {
           "bgcolor": "white",
           "lakecolor": "white",
           "landcolor": "#E5ECF6",
           "showlakes": true,
           "showland": true,
           "subunitcolor": "white"
          },
          "hoverlabel": {
           "align": "left"
          },
          "hovermode": "closest",
          "mapbox": {
           "style": "light"
          },
          "paper_bgcolor": "white",
          "plot_bgcolor": "#E5ECF6",
          "polar": {
           "angularaxis": {
            "gridcolor": "white",
            "linecolor": "white",
            "ticks": ""
           },
           "bgcolor": "#E5ECF6",
           "radialaxis": {
            "gridcolor": "white",
            "linecolor": "white",
            "ticks": ""
           }
          },
          "scene": {
           "xaxis": {
            "backgroundcolor": "#E5ECF6",
            "gridcolor": "white",
            "gridwidth": 2,
            "linecolor": "white",
            "showbackground": true,
            "ticks": "",
            "zerolinecolor": "white"
           },
           "yaxis": {
            "backgroundcolor": "#E5ECF6",
            "gridcolor": "white",
            "gridwidth": 2,
            "linecolor": "white",
            "showbackground": true,
            "ticks": "",
            "zerolinecolor": "white"
           },
           "zaxis": {
            "backgroundcolor": "#E5ECF6",
            "gridcolor": "white",
            "gridwidth": 2,
            "linecolor": "white",
            "showbackground": true,
            "ticks": "",
            "zerolinecolor": "white"
           }
          },
          "shapedefaults": {
           "line": {
            "color": "#2a3f5f"
           }
          },
          "ternary": {
           "aaxis": {
            "gridcolor": "white",
            "linecolor": "white",
            "ticks": ""
           },
           "baxis": {
            "gridcolor": "white",
            "linecolor": "white",
            "ticks": ""
           },
           "bgcolor": "#E5ECF6",
           "caxis": {
            "gridcolor": "white",
            "linecolor": "white",
            "ticks": ""
           }
          },
          "title": {
           "x": 0.05
          },
          "xaxis": {
           "automargin": true,
           "gridcolor": "white",
           "linecolor": "white",
           "ticks": "",
           "title": {
            "standoff": 15
           },
           "zerolinecolor": "white",
           "zerolinewidth": 2
          },
          "yaxis": {
           "automargin": true,
           "gridcolor": "white",
           "linecolor": "white",
           "ticks": "",
           "title": {
            "standoff": 15
           },
           "zerolinecolor": "white",
           "zerolinewidth": 2
          }
         }
        },
        "xaxis": {
         "title": {
          "text": "PC1"
         }
        },
        "yaxis": {
         "title": {
          "text": "PC2"
         }
        }
       }
      },
      "text/html": [
       "<div>\n",
       "        \n",
       "        \n",
       "            <div id=\"7faa9e87-0fde-4c6b-87bb-9eb76ab9f2b9\" class=\"plotly-graph-div\" style=\"height:525px; width:100%;\"></div>\n",
       "            <script type=\"text/javascript\">\n",
       "                require([\"plotly\"], function(Plotly) {\n",
       "                    window.PLOTLYENV=window.PLOTLYENV || {};\n",
       "                    \n",
       "                if (document.getElementById(\"7faa9e87-0fde-4c6b-87bb-9eb76ab9f2b9\")) {\n",
       "                    Plotly.newPlot(\n",
       "                        '7faa9e87-0fde-4c6b-87bb-9eb76ab9f2b9',\n",
       "                        [{\"marker\": {\"color\": [1, 0, 0, 1, 0, 1, 0, 0, 0, 0, 1, 0, 0, 1, 1, 0, 1, 0, 0, 0, 1, 0, 1, 1, 0, 1, 1, 1, 0, 1, 0, 1, 0, 0, 1, 1, 0, 1, 1, 0, 0, 0, 1, 1, 0, 1, 1, 0, 0, 0, 0, 1, 1, 0, 0, 1, 0, 0, 0, 1, 1, 0, 1, 1, 0, 0, 1, 0, 0, 0, 0, 1, 0, 1, 1, 0, 1, 0, 0, 0, 1, 0, 1, 0, 0, 1, 1, 1, 1, 1, 1, 0, 0, 1, 0, 1, 1, 0, 1, 0, 0, 1, 1, 1, 1, 0, 0, 0, 1, 0, 1, 0, 0, 1, 1, 0, 1, 0, 1, 0, 0, 1, 1, 0, 0, 1, 1, 0, 1, 1, 1, 0, 0, 0, 1, 0, 0, 0, 1, 0, 0, 0, 0, 1, 1, 1, 0, 0, 1, 0, 0, 1, 0, 1, 0, 0, 1, 0, 1, 1, 0, 1, 1, 1, 0, 0, 1, 0, 1, 0, 1, 1, 1, 1, 1, 0, 1, 1, 1, 1, 0, 1, 1, 0, 0, 0, 0, 0, 1, 1, 1, 1, 1, 0, 0, 0, 1, 1, 0, 0, 1, 1, 1, 1, 0, 0, 1, 0, 1, 0, 1, 0, 0, 0, 1, 1, 0, 1, 1, 1, 1, 0, 1, 0, 1, 0, 1, 0, 1, 0, 0, 0, 1, 0, 1, 1, 1, 0, 0, 0, 1, 0, 0, 1, 1, 1, 0, 0, 1, 1, 1, 0, 1, 1, 1, 0, 0, 1, 0, 1, 0, 0, 0, 0, 0, 0, 1, 1, 1, 1, 0, 1, 1, 0, 1, 0, 1, 0, 1, 1, 0, 1, 0, 1, 1, 1, 1, 1, 0, 0, 0, 1, 1, 1, 0, 0, 0, 0, 0, 0, 0, 0, 0, 0, 1, 0, 0, 0, 0, 0, 0, 0, 1, 1, 0, 0, 1, 0, 1, 0, 1, 1, 0, 0, 1, 0, 1, 0, 1, 0, 0, 1, 0, 0, 0, 1, 0, 0, 0, 1, 1, 0, 1, 1, 1, 0, 1, 0, 1, 1, 0, 0, 1, 1, 0, 0, 1, 1, 0, 0, 1, 0, 1, 1, 0, 1, 0, 1, 0, 0, 0, 1, 1, 1, 1, 0, 0, 1, 1, 0, 1, 0, 1, 0, 1, 0, 1, 0, 1, 0, 1, 1, 0, 0, 1, 0, 0, 0, 1, 1, 1, 0, 0, 1, 1, 1, 0, 0, 0, 0, 0, 0, 0, 0, 0, 0, 1, 0, 0, 1, 0, 1, 0, 1, 1, 0, 0, 0, 1, 0, 0, 1, 1, 0, 1, 0, 1, 0, 1, 0, 0, 0, 1, 1, 1, 1, 1, 1, 1, 0, 0, 1, 1, 0, 1, 0, 1, 1, 0, 1, 0, 1, 1, 1, 1, 1, 1, 1, 0, 1, 0, 1, 0, 1, 1, 1, 0, 0, 1, 0, 0, 1, 1, 1, 1, 0, 1, 1, 1, 0, 0, 0, 1, 1, 1, 1, 1, 1, 1, 0]}, \"mode\": \"markers\", \"name\": \"post\", \"type\": \"scatter\", \"x\": [-7.428299953816848, 8.374834313561296, 11.404027439423517, -8.966111767245536, 5.79739855135976, -5.1508012670074415, -0.6397202479314783, 4.529071572188459, 0.8510803802894601, 7.129420512789594, -9.989458341353128, 6.062778722329594, 7.032646408352942, -4.878896756550278, -4.9302020424471, 3.8882874248625576, -10.870159299022394, 12.928131874681739, 5.54307950229199, 10.59799397420195, -7.151543971413375, 6.938931532532935, -5.537962419799775, -5.528639277113003, 7.456668841693908, -8.723548007892113, -4.785591986204449, -13.430464465730148, 6.418103457306064, -1.2912637003747054, 8.712546299443652, -5.869327573216503, 7.876073464650707, 9.325618862891968, -4.464194092111816, -10.620812271018822, 8.600639711874877, -8.065231562587066, -8.931897537673962, 7.387429918583594, 9.462174473104483, 4.987656050881021, -3.794507662000814, -11.508006803050804, 4.252247190286415, -5.364461431270562, -6.211041600532642, 10.14055070011213, 3.676981455707071, 9.464758519724816, 6.949261034631155, -9.378066946896059, -13.165689361949369, 12.758921444935902, -1.5986365137988292, -6.574881741443124, 12.474264483055627, 11.49114881695483, 6.0144126655388686, -3.385235967655087, -5.372119523681342, 10.074130636170462, -4.0903127638222685, -6.79017852838077, 8.730606305346692, 8.388107538089065, -8.301860951338794, 0.8886333038672487, 7.284096520136986, 4.309703564612448, 9.428983303613379, -5.9566231612233675, 4.95814641690391, -3.8833908427088333, -5.36106741627154, 3.2533719487495567, -6.3968892496261525, 3.467383111473639, 9.121263508433122, 5.369776538153874, -6.498226494129063, 3.572919101316186, -7.223198751165619, 5.943117101648066, 12.837511003926375, -6.729328928614154, -6.79434121521894, 0.8034205082290099, -9.895772839871611, -11.185818073170037, -3.983415085754818, 5.434482525577643, 10.598659701179812, -7.3837366920459635, 5.768436601125816, -7.665005216292434, -3.5848762185588177, 4.555743743188963, -2.7760832496042855, 6.43302699181335, 7.499278363784715, -1.5253346853438468, -6.112589119685037, -7.952264875202932, -9.830863441683178, 7.798107924919866, 7.78085819498115, 5.751723349434436, -9.34850882579434, 11.473277664444915, -10.451778303130238, 7.514153207365551, 7.1227431692742815, -15.508222536255072, -5.81464680344094, 6.234935254501697, -11.962616049710192, 5.638784128685672, -5.755827023387951, 4.151051603225785, 4.5192711471046545, -0.8133670776432337, -7.432097809924292, 8.698191507145886, 4.122489416220344, -4.840440359382003, -10.509956948984598, 10.32693323701763, -9.525642800594103, -7.107731492099467, -9.256164887197642, 13.543853685710458, 7.217711693075573, 6.690040081530738, -6.1921585803648425, 4.9506618861972544, 3.291086611544579, 10.474671555246799, -11.926891496946038, 5.103308302937786, 8.099397199969047, 7.202396479967844, 10.180719212732592, -6.894320312801881, -8.405390124118574, -4.765821953268213, 8.685187144061429, 7.796899070374661, -2.2532283834882225, 3.52474326470084, 2.9782661905881307, -11.643162951707188, 11.106122621565097, -7.488884021962091, 9.903756857839989, 9.956707062159857, -9.79331488157083, 10.126886975919469, -4.459689445621764, -9.459898501865714, 5.320504761658784, -12.138099442750732, -4.950426387160747, -3.9633748871181718, 5.103894563811574, 12.730771207007312, -5.393531831467359, 9.715789388647782, -5.564573043375285, 8.435676196285119, -4.243185039114777, -7.1084453282600615, -9.510126368378762, -5.048308498490306, -7.035676504090491, 8.828308275900838, -6.862473493402941, -3.9806408754452254, -7.298149731529508, -7.830945474966541, 3.353589888108281, -9.168765860801555, -3.717246656726247, 3.910482502617679, 5.9765992035338975, 8.809142113231003, 10.434986496228658, 8.738446656746799, -5.930931127855209, -14.01321280075357, -6.9242401994703, -6.000207129184044, -13.987803974789589, 7.267249565982581, 11.216269104913923, 4.771289542380876, -11.58050902462386, -9.374674597905088, 6.317846395592632, 12.033691046253779, -5.7629015902465355, -10.492252332636422, -6.843611387678973, -3.4680774386031317, 6.779481180255019, 8.6118468089108, -5.994086108303573, 2.9236925192966803, -7.22898929171501, 7.18447877304106, -7.468781513451658, 2.411354906401492, 3.821266353050892, 5.194106254963764, -9.034760242986259, -10.413387232607302, 4.386485468170444, -7.235393377941598, -10.598349043606527, -11.06370734642028, -5.4090473172348785, 5.61385524989962, -11.853449324439243, 13.938961612972221, -8.299124679698046, 8.912645797295466, -2.2855079911694993, 1.969332885219087, -5.7316252163158286, 6.4759209819421635, 5.614072393428813, 6.72682541961888, -4.816000291088928, 13.029031198868346, -10.339735520779666, -4.974032344091197, -4.82310260423096, 8.173556421418274, 4.327200926895194, 8.064577465372036, -2.6165134769928144, 8.978174493175938, 7.265510845810274, -4.298809869479595, -6.283362269140284, -8.266847357462218, 7.237569186758488, 7.490629705044936, -7.086405130090979, -8.442949750577862, -5.030055422786064, 9.682675394360786, -11.456007818774104, -8.472912431316363, -5.821710622559128, 6.422953617565276, 9.93612459304762, -9.818022238975212, 7.207841384808994, -7.95845657136309, 9.1645674934203, 11.134715470835218, 5.948082318335878, 6.707562069823213, 8.009916989173314, 1.3951746156421374, -12.274085040425758, -7.761507582502149, -0.5612164932862406, -12.101882395484907, 7.875783464190766, -5.803372282948012, -11.194360430558397, 4.485408418609803, -7.228814507707797, -1.0660751314099854, -3.4082740378248806, 13.49845545028015, -4.516894303792066, -7.976389342780047, 8.417392782489538, -5.652470432687734, 9.01475837665508, -7.729768663514436, -8.7574163416849, -4.561484736056578, -13.99861976888874, -5.866216677348089, 7.932447127577321, 7.656623449626842, 7.5946379266356505, -5.674028529329155, -4.475783174940349, -3.187936779798765, 4.089161199380317, 6.692998153765856, 5.702444500464969, 7.8680888915810945, 8.098728251633212, 6.373562097963806, 6.904251091161276, 7.5270580105259, 8.200616559879027, 4.0707383302549145, -2.2099132388109552, 7.250555246122046, 5.519373270462982, 7.467134774893252, 5.852442704463975, 6.300816031304959, 6.011662605950827, 2.9400085810781973, -8.994576891449874, -9.403979196048537, 5.547569392732725, 8.998079734527568, -11.617293301669447, 7.538445811971849, -7.757236903496241, 11.410256604256276, -3.852022200235473, -4.958607823833648, 4.135908981841351, 9.98330324475091, -6.695083569451272, 6.6951407410572115, -3.293086035202328, 7.453506010713902, -5.349663314830822, 14.917144410190495, 12.481640015730674, -9.071773496934739, 9.582535971795165, 10.649841240552785, 8.51790135985921, -10.260404770333412, 6.0221975361600775, 10.031848059814635, 8.292881219667304, -2.8212946029891777, -5.3166629833733, 9.765725940256953, -9.531703564742624, -4.508071945223303, -8.521312692824267, 8.886467709178932, -7.983237042916492, 10.089685186602566, -10.76137811337593, -12.381162981868604, 7.783839558084553, 6.21245789053024, -4.948032732761055, -8.383704544665942, 6.701144968825506, 9.026028336591047, -8.379563694265396, -8.513945804438835, 5.228783545363728, 4.6985010040721065, -5.139286044604909, -0.022413611178958792, -8.73764874911997, -16.429553193002008, 12.816316957207054, -7.732640514917186, 8.979931381674215, -7.480340230271118, 7.836869902499352, 5.89641015673832, 4.69289589319594, -10.296875418768721, -8.774584746682555, -0.01028522060024617, -5.657110400495942, 10.699563370963496, 8.17059498267285, -5.5874744183955745, -8.840598111491314, 4.624055289433467, -10.102215406751457, 2.131471114216368, -5.983366689892055, 2.4355012751165006, -10.162030725814262, 7.00298519998511, -6.078892289592665, 3.4705743686414907, -11.591029831804311, 6.949191867294603, -4.321956404293193, -2.174729131639418, 9.675430729584722, 4.464583923411568, -8.177863269867107, 8.6755642807211, 9.737954513155703, 4.979609280459332, -11.355557479557412, -7.612062422284769, -8.503958337772607, 11.882268178559249, 7.179212118801192, -3.2386700976900418, -11.431532946372151, -7.862600179727738, 10.337621641959, 8.621690207343477, 9.90258374222254, 4.3030686299885925, 4.83893165875657, 2.1770154572450346, 3.5872978592253473, 13.26964719450689, 4.944908802066624, 4.973098794052735, 3.5662106233147712, 7.568507844970053, 7.141852741790441, -10.25581449343628, 6.390672773804021, -11.138100088920993, 5.1352096125771105, -10.49252821157594, -3.011281790410162, 9.55365927833467, 4.345059551556758, 9.034813455159075, -10.613109663608416, 9.978351878603963, 13.106024791306508, -7.973306881044891, -4.553804257803504, 6.218900204491357, -8.131490927253608, 9.587359938194572, -6.837775755010942, 5.046801627541688, -12.735863278843754, 5.9685591748357165, 8.14101559223841, 2.5523504195595605, -4.227403252557107, -6.052895931905481, -10.676971629046662, -6.550087264145898, -6.447211782591623, -8.772377205546883, -9.16786928510934, 4.939675130219857, 8.781980249858183, -5.183438624345034, -9.505133230613557, 10.406346101562551, -8.013695001722201, 10.766163355535031, -1.518999723674634, -10.435221868861799, 4.162467901380248, -7.406941366842962, 5.483185886811029, -6.04158814791796, -7.711441610451294, -1.907308375377332, -6.417273712339872, -6.497996180122149, -8.099938764375285, -11.571831245906269, 7.802765425466355, -3.1697245141248453, 10.90586021755101, -5.71586743391938, 9.82344291082346, -6.720541993282423, -9.522173633294631, -9.922311323110657, 6.693975541311686, 7.739723796207286, 2.088647851178254, 5.929220388478447, 10.65268600794257, -5.791455779917038, -5.5422375231770875, -2.6455138290759264, -6.878303417635092, 3.5375985049165157, -7.604451820307563, -3.0435636641260984, -7.509300085996745, 2.2538073065469315, 8.143965501517831, 9.889118250742674, -4.120020302915849, -3.049948491748824, -9.469729178230175, -13.828863914531963, -11.381064658063119, -11.533276073712939, -11.665540726284544, 6.622997060441216], \"y\": [-8.442864447572621, 5.4858876421903595, 0.19943679781881984, -4.167563100088925, 10.251118442369775, -4.30726796505898, 11.333599398305855, 2.891537933376289, 2.2206509251681434, 4.484296872208039, -2.3584225384166992, 2.8246738390281507, 1.3730847107485906, -2.3927261745199178, -2.9397163531786177, 4.767200208907575, -3.6235671490722186, 4.762894372891391, 5.717082452360412, 3.7984704081754486, -5.755144591018352, 7.54184089415656, -5.241537575934775, -5.525668946873575, 3.042264472799828, -3.921801086668432, 2.06297935641118, -4.21353627951278, 6.599290272305308, -2.7843493210787216, 7.840111465489482, -4.411798595331582, 5.8702895428441515, 6.965089586282788, -11.584751026560383, -0.23450345452763033, 5.029916939293807, -2.335239308736398, -3.6148464816170156, 2.650689540174202, 6.6066811579942275, 7.102045526704039, -2.874372307955718, -1.4387125421551579, 2.1059822349350803, -5.939302032477669, -7.090057670750642, 5.272734451719495, 5.918448938220835, 8.102079066970589, 2.271355375334615, -3.1009135108089336, -11.77386910574507, 3.9320278817364382, 1.480710723279067, -3.0500129811445857, 6.224907340693537, 6.583850361828386, 7.445097746512966, -0.4587695914594876, -2.9432541714363394, -0.859355087977046, -4.429597247365006, -4.800626345744194, 6.2907935423307215, 5.363885914071156, -1.168691895396782, 9.572798129033096, 0.7061838397026543, -0.384380949646296, 4.229521422781296, -4.956189614162296, 0.7882595939167765, -6.896467049066629, 0.5987715672295446, 5.314791194552043, -5.859283720541136, 2.1034775796388274, 0.6770215455105815, 4.32289746560307, -8.671930620221836, 8.853169885184627, -3.5190950075205474, 3.5828668437247595, 2.0708833774994373, -7.557833075342188, -7.189784136526305, -5.089132057375486, -4.364433855625563, -6.15805364252715, -3.1594640818741464, 5.012229399427188, -0.3448822824661453, -3.335264056107709, 4.881958284494388, -6.482405201485958, -4.791891663791885, 5.045993739518353, -4.942487494535234, 0.06787244503288281, 3.3428574200661125, -4.211632979983891, -0.08103162457209212, -3.428433000349157, -6.857829322211801, 9.493115531121413, 1.9899533676520915, 6.8518372963096645, -8.1129834638514, 7.289776299658206, -3.2855973394725333, 0.3437040206815706, 2.0267568065523482, -2.1205648943828628, -2.9677262912845856, 1.1116182209333398, -5.156692204150701, 5.921734527963359, -1.0331847537790553, -0.7639308353877013, 1.6715244492889552, -9.975825721220646, -6.75950707598073, 8.724377402487976, 7.66409548490457, -0.06324233404573665, -5.681281974431796, 6.034924739266806, -7.913099827290486, -3.462761749379861, -11.359430854787014, 6.12334780307212, -1.0484115708205892, 8.177607246929895, -1.8909611880416972, 3.3022037420882784, -0.7433749683366944, 7.508596093705189, -4.982317405073619, 4.7541384358676915, 0.3980800866464691, 5.602546281005337, 5.782046943644994, -2.0908454927088944, -1.069447996982571, -5.938051537828582, 2.7709204123974933, 6.318313146199086, -7.791196383002482, 3.972925459652765, 4.0648862944834585, -8.282808834968346, 8.026388632088429, -6.652816168758697, 0.4552935819902317, -1.3670140609547468, -5.5243487674662495, 4.541438359136658, -4.435926941988958, -3.9958033724280884, 0.5673157945527751, -4.819732403144253, -6.024196628454746, -4.30920771711968, 6.6620367502080065, 1.0935484983803327, -1.9047726251204455, 8.178571059141897, 0.4344269742378106, 11.023990984992697, 1.2395718046116415, -2.503069873281175, -2.833184975098386, -11.475578301700509, 1.6646695597544183, 3.291972543388523, -3.7757661083973204, -6.213975098321675, 0.4810878421123798, -8.257623427460738, 2.4981364359413085, -0.25878323390570607, -1.3659049752452972, 5.652107569618321, 6.184189447700142, 5.477008267401022, 4.837532157195021, 6.737167564595751, -7.490496654018221, -6.8856905805228354, -10.027709650687893, -6.7433072967877905, -5.038991878798526, -2.8121814238410097, 9.429520502987165, 2.851391130561162, -3.6045401583858587, -4.678513547237549, 6.349257003988095, -1.996010378218935, -11.069089191528448, -6.602700019017506, -3.3549288148486616, -6.035264896221983, 6.0865267390398845, 5.738150096318503, -8.396690405708727, 3.150597478582556, -7.334793824329113, 8.098251582651471, -6.2193234166788915, 2.2918973161656595, 4.6920449642039035, 3.3556875449257086, -4.321185763788836, -6.042600742312037, -0.4719599418750382, -11.34937727692137, -5.141346359147754, -7.978370990145617, -1.8230066139713161, 0.40412767801583804, -8.554291740076504, 4.694856894870954, -3.470022214371747, 6.942899142577904, -11.023796949081335, 3.7521558474329364, -7.723882542730754, 5.722367411624624, 5.356994401532575, 2.158076118221308, -2.4514196036657867, 2.90262687009127, -4.107140521643696, -6.649481321860149, -5.564152182629594, 6.327029557712844, 11.541941330273735, 7.139193153461335, -4.6758538236281915, 6.366643024900323, 0.8782532829209677, -5.747739711357514, -4.375125971007874, -6.900636483762513, 6.960713336572739, -7.217845353883017, -7.622289448402675, -4.841996568681786, -10.927553790744422, 1.5441157499158071, -3.4677466859944213, -4.872842936892979, -6.104537138222043, 2.641967894232811, 2.2484266217448936, -9.913850750935854, -0.725784319346201, -6.875835725976328, 7.869772182318732, 6.79438915507549, 2.7992217819858407, 3.6437487584274546, 7.08308782526575, 4.434093720970198, -1.3470787888522329, -8.113293839877063, -4.292856068727042, -4.015239381270811, 8.490599700187214, -4.668029664659416, 2.0044717012375584, -0.3632913761908856, -5.255272415282155, 2.456116062433384, 1.4261569151170215, 3.544948604448836, -5.640767519293943, -2.6041605142524995, 4.354998265030518, -5.376854871979183, -0.690698996641227, -7.169126385867562, 0.1069987890532429, -5.092065229388949, -2.271415488456859, -12.404881181156114, 2.7479275292104193, 7.304134512661799, 5.73001955654816, -13.099615732052637, -0.3252129361059415, -2.9729806812118102, 2.462217613389943, 6.353103860203902, 6.358309969041644, 3.9613932156688856, 3.8576319963455084, 4.818229344947166, -1.4601825256248038, 6.631039659072252, 3.450425667966134, 4.527620147091394, -5.04287215705755, 5.346275817931623, 7.216749371951001, 8.559140723622217, 1.7433870471528679, 6.699193259119574, 1.128742792182714, 6.0084549975932, -3.4410502578783264, 2.4809556847218515, 7.420208608749007, 3.2475740216513223, -7.096385439699505, 3.4421204498723963, -1.7185885741140199, 6.2985770800560985, -5.797873996615419, 0.1047441744196767, 2.371781259830807, -0.08661745267366827, -2.495961682356458, 4.888372402744666, -2.9832929840690587, 3.3175048219186207, -3.5228504259537305, 3.3560783310222613, 0.7465717093763842, -2.6479621304338936, 7.99350960447289, 3.151289911336254, 6.011927377283968, 0.6349542136060855, 7.080895067556722, 5.5726262001948035, -0.9957259461391168, -4.746508340472205, 2.229432306002494, 6.501365312130915, -5.938126653039607, -7.340561565191818, -1.8485202980551496, 2.0613287995018736, -6.81056556339013, 0.6521890208989811, -3.5397802347791494, -6.323844605353468, 3.7168795819488043, 2.7759601667503566, 3.7167995942486636, -2.124281094926407, 2.7783565762733344, 6.205197089882181, -4.0991996280287015, -3.4342726148076257, 1.0989219794002745, 8.264284456683631, -7.496969008221143, 9.788589681559806, -6.394418037314979, -2.202396304265651, 9.565311568657757, -6.575373876660455, 8.021460786013098, -6.5399153128654515, -0.7680935446488043, 3.0576627416663147, 5.478320112109884, -2.5372950425923104, -0.7024223078407357, -2.8569847748564827, 1.2751845081254165, 9.370253851728265, 6.519829530420094, -6.920711511970806, -8.583901971671086, 8.869545035774783, 0.15082440986914714, 8.811378910710145, -2.8672252856577236, 4.301282096656944, -0.8577579264909869, 0.8607214639213961, -3.609887197354567, 3.8812098615114707, -0.5670569469570609, 9.662918932557703, -2.2630525101560024, -6.950262247286695, 2.086121673026507, 8.629552127436003, -3.5158724824831706, 6.730883670962027, 4.819166697954985, 6.743513928242274, -2.791062490021554, 3.1204570322258585, 2.462534475607331, 5.932281323155885, 0.3584334052393685, -7.14046629205592, -5.869023960660182, -3.0385112806013588, 6.40519728166694, 5.831345726898909, 3.547869257628852, 1.8624906907143681, 6.636676509035934, 6.622766659069433, 10.57174240442546, 7.155746173178874, -2.2957345457689176, 6.949964006027443, -2.94488263575817, 5.429850542330077, 5.483506553825185, -8.859062409204952, 4.226913908474938, -2.0709975249741364, 4.414912171129422, -5.4588974152782, -3.9562107960808683, 1.4890381669109813, 7.334527730425551, 4.6716214948229196, -1.6641990874035715, -0.5803166448142041, 10.694606893830468, -2.825858811313427, -4.901272977613031, 2.4027683513713685, -5.48311203683936, 1.9526518451603412, -5.711967627967719, 4.0655491433703554, -6.663354183774582, 6.425004036362172, 7.569473391927851, 4.899068012589691, -3.0752744872883477, -5.583977787921555, -1.6035973898571556, -1.5785446675710728, -3.873056909497986, -1.8900703307111857, -0.754657845320791, 3.150535734430552, -0.49827665979579727, -3.4652897378909335, -11.350311699141113, 9.517357590636376, -6.520268367184595, 8.090145831825764, -3.0457283213702295, -6.072507087971225, 7.1993835218410505, -2.1458617455133537, 2.673343772217499, -5.249535998757778, -1.618276796433255, -3.205475172681314, 1.1841156470470566, -3.8204379158478163, -8.906398687707458, -5.007267175374051, 3.9063456253719115, -3.3890134872554833, 4.469435716306419, -2.4880580867377047, 5.972998285188563, -1.750834604744919, -7.188028730079882, -5.584322452980464, -3.0953336715505895, 1.96153842605911, -2.829475086301345, 4.754105663482095, 0.43899352517863366, -4.080346421206753, -3.172280161966369, -6.384611165224091, -1.8012262236052954, -0.04338923790488414, -4.106649494175321, -2.550073105986403, -2.0764938950928826, 3.51321693848962, 3.665263232798816, 2.3021459482721607, -5.8335643558325, -5.671697016843858, -11.600627478812708, -4.142124338865673, -4.14794727018281, -0.5252398406825791, -5.859336616619716, 6.6270618410189615]}],\n",
       "                        {\"template\": {\"data\": {\"bar\": [{\"error_x\": {\"color\": \"#2a3f5f\"}, \"error_y\": {\"color\": \"#2a3f5f\"}, \"marker\": {\"line\": {\"color\": \"#E5ECF6\", \"width\": 0.5}}, \"type\": \"bar\"}], \"barpolar\": [{\"marker\": {\"line\": {\"color\": \"#E5ECF6\", \"width\": 0.5}}, \"type\": \"barpolar\"}], \"carpet\": [{\"aaxis\": {\"endlinecolor\": \"#2a3f5f\", \"gridcolor\": \"white\", \"linecolor\": \"white\", \"minorgridcolor\": \"white\", \"startlinecolor\": \"#2a3f5f\"}, \"baxis\": {\"endlinecolor\": \"#2a3f5f\", \"gridcolor\": \"white\", \"linecolor\": \"white\", \"minorgridcolor\": \"white\", \"startlinecolor\": \"#2a3f5f\"}, \"type\": \"carpet\"}], \"choropleth\": [{\"colorbar\": {\"outlinewidth\": 0, \"ticks\": \"\"}, \"type\": \"choropleth\"}], \"contour\": [{\"colorbar\": {\"outlinewidth\": 0, \"ticks\": \"\"}, \"colorscale\": [[0.0, \"#0d0887\"], [0.1111111111111111, \"#46039f\"], [0.2222222222222222, \"#7201a8\"], [0.3333333333333333, \"#9c179e\"], [0.4444444444444444, \"#bd3786\"], [0.5555555555555556, \"#d8576b\"], [0.6666666666666666, \"#ed7953\"], [0.7777777777777778, \"#fb9f3a\"], [0.8888888888888888, \"#fdca26\"], [1.0, \"#f0f921\"]], \"type\": \"contour\"}], \"contourcarpet\": [{\"colorbar\": {\"outlinewidth\": 0, \"ticks\": \"\"}, \"type\": \"contourcarpet\"}], \"heatmap\": [{\"colorbar\": {\"outlinewidth\": 0, \"ticks\": \"\"}, \"colorscale\": [[0.0, \"#0d0887\"], [0.1111111111111111, \"#46039f\"], [0.2222222222222222, \"#7201a8\"], [0.3333333333333333, \"#9c179e\"], [0.4444444444444444, \"#bd3786\"], [0.5555555555555556, \"#d8576b\"], [0.6666666666666666, \"#ed7953\"], [0.7777777777777778, \"#fb9f3a\"], [0.8888888888888888, \"#fdca26\"], [1.0, \"#f0f921\"]], \"type\": \"heatmap\"}], \"heatmapgl\": [{\"colorbar\": {\"outlinewidth\": 0, \"ticks\": \"\"}, \"colorscale\": [[0.0, \"#0d0887\"], [0.1111111111111111, \"#46039f\"], [0.2222222222222222, \"#7201a8\"], [0.3333333333333333, \"#9c179e\"], [0.4444444444444444, \"#bd3786\"], [0.5555555555555556, \"#d8576b\"], [0.6666666666666666, \"#ed7953\"], [0.7777777777777778, \"#fb9f3a\"], [0.8888888888888888, \"#fdca26\"], [1.0, \"#f0f921\"]], \"type\": \"heatmapgl\"}], \"histogram\": [{\"marker\": {\"colorbar\": {\"outlinewidth\": 0, \"ticks\": \"\"}}, \"type\": \"histogram\"}], \"histogram2d\": [{\"colorbar\": {\"outlinewidth\": 0, \"ticks\": \"\"}, \"colorscale\": [[0.0, \"#0d0887\"], [0.1111111111111111, \"#46039f\"], [0.2222222222222222, \"#7201a8\"], [0.3333333333333333, \"#9c179e\"], [0.4444444444444444, \"#bd3786\"], [0.5555555555555556, \"#d8576b\"], [0.6666666666666666, \"#ed7953\"], [0.7777777777777778, \"#fb9f3a\"], [0.8888888888888888, \"#fdca26\"], [1.0, \"#f0f921\"]], \"type\": \"histogram2d\"}], \"histogram2dcontour\": [{\"colorbar\": {\"outlinewidth\": 0, \"ticks\": \"\"}, \"colorscale\": [[0.0, \"#0d0887\"], [0.1111111111111111, \"#46039f\"], [0.2222222222222222, \"#7201a8\"], [0.3333333333333333, \"#9c179e\"], [0.4444444444444444, \"#bd3786\"], [0.5555555555555556, \"#d8576b\"], [0.6666666666666666, \"#ed7953\"], [0.7777777777777778, \"#fb9f3a\"], [0.8888888888888888, \"#fdca26\"], [1.0, \"#f0f921\"]], \"type\": \"histogram2dcontour\"}], \"mesh3d\": [{\"colorbar\": {\"outlinewidth\": 0, \"ticks\": \"\"}, \"type\": \"mesh3d\"}], \"parcoords\": [{\"line\": {\"colorbar\": {\"outlinewidth\": 0, \"ticks\": \"\"}}, \"type\": \"parcoords\"}], \"pie\": [{\"automargin\": true, \"type\": \"pie\"}], \"scatter\": [{\"marker\": {\"colorbar\": {\"outlinewidth\": 0, \"ticks\": \"\"}}, \"type\": \"scatter\"}], \"scatter3d\": [{\"line\": {\"colorbar\": {\"outlinewidth\": 0, \"ticks\": \"\"}}, \"marker\": {\"colorbar\": {\"outlinewidth\": 0, \"ticks\": \"\"}}, \"type\": \"scatter3d\"}], \"scattercarpet\": [{\"marker\": {\"colorbar\": {\"outlinewidth\": 0, \"ticks\": \"\"}}, \"type\": \"scattercarpet\"}], \"scattergeo\": [{\"marker\": {\"colorbar\": {\"outlinewidth\": 0, \"ticks\": \"\"}}, \"type\": \"scattergeo\"}], \"scattergl\": [{\"marker\": {\"colorbar\": {\"outlinewidth\": 0, \"ticks\": \"\"}}, \"type\": \"scattergl\"}], \"scattermapbox\": [{\"marker\": {\"colorbar\": {\"outlinewidth\": 0, \"ticks\": \"\"}}, \"type\": \"scattermapbox\"}], \"scatterpolar\": [{\"marker\": {\"colorbar\": {\"outlinewidth\": 0, \"ticks\": \"\"}}, \"type\": \"scatterpolar\"}], \"scatterpolargl\": [{\"marker\": {\"colorbar\": {\"outlinewidth\": 0, \"ticks\": \"\"}}, \"type\": \"scatterpolargl\"}], \"scatterternary\": [{\"marker\": {\"colorbar\": {\"outlinewidth\": 0, \"ticks\": \"\"}}, \"type\": \"scatterternary\"}], \"surface\": [{\"colorbar\": {\"outlinewidth\": 0, \"ticks\": \"\"}, \"colorscale\": [[0.0, \"#0d0887\"], [0.1111111111111111, \"#46039f\"], [0.2222222222222222, \"#7201a8\"], [0.3333333333333333, \"#9c179e\"], [0.4444444444444444, \"#bd3786\"], [0.5555555555555556, \"#d8576b\"], [0.6666666666666666, \"#ed7953\"], [0.7777777777777778, \"#fb9f3a\"], [0.8888888888888888, \"#fdca26\"], [1.0, \"#f0f921\"]], \"type\": \"surface\"}], \"table\": [{\"cells\": {\"fill\": {\"color\": \"#EBF0F8\"}, \"line\": {\"color\": \"white\"}}, \"header\": {\"fill\": {\"color\": \"#C8D4E3\"}, \"line\": {\"color\": \"white\"}}, \"type\": \"table\"}]}, \"layout\": {\"annotationdefaults\": {\"arrowcolor\": \"#2a3f5f\", \"arrowhead\": 0, \"arrowwidth\": 1}, \"coloraxis\": {\"colorbar\": {\"outlinewidth\": 0, \"ticks\": \"\"}}, \"colorscale\": {\"diverging\": [[0, \"#8e0152\"], [0.1, \"#c51b7d\"], [0.2, \"#de77ae\"], [0.3, \"#f1b6da\"], [0.4, \"#fde0ef\"], [0.5, \"#f7f7f7\"], [0.6, \"#e6f5d0\"], [0.7, \"#b8e186\"], [0.8, \"#7fbc41\"], [0.9, \"#4d9221\"], [1, \"#276419\"]], \"sequential\": [[0.0, \"#0d0887\"], [0.1111111111111111, \"#46039f\"], [0.2222222222222222, \"#7201a8\"], [0.3333333333333333, \"#9c179e\"], [0.4444444444444444, \"#bd3786\"], [0.5555555555555556, \"#d8576b\"], [0.6666666666666666, \"#ed7953\"], [0.7777777777777778, \"#fb9f3a\"], [0.8888888888888888, \"#fdca26\"], [1.0, \"#f0f921\"]], \"sequentialminus\": [[0.0, \"#0d0887\"], [0.1111111111111111, \"#46039f\"], [0.2222222222222222, \"#7201a8\"], [0.3333333333333333, \"#9c179e\"], [0.4444444444444444, \"#bd3786\"], [0.5555555555555556, \"#d8576b\"], [0.6666666666666666, \"#ed7953\"], [0.7777777777777778, \"#fb9f3a\"], [0.8888888888888888, \"#fdca26\"], [1.0, \"#f0f921\"]]}, \"colorway\": [\"#636efa\", \"#EF553B\", \"#00cc96\", \"#ab63fa\", \"#FFA15A\", \"#19d3f3\", \"#FF6692\", \"#B6E880\", \"#FF97FF\", \"#FECB52\"], \"font\": {\"color\": \"#2a3f5f\"}, \"geo\": {\"bgcolor\": \"white\", \"lakecolor\": \"white\", \"landcolor\": \"#E5ECF6\", \"showlakes\": true, \"showland\": true, \"subunitcolor\": \"white\"}, \"hoverlabel\": {\"align\": \"left\"}, \"hovermode\": \"closest\", \"mapbox\": {\"style\": \"light\"}, \"paper_bgcolor\": \"white\", \"plot_bgcolor\": \"#E5ECF6\", \"polar\": {\"angularaxis\": {\"gridcolor\": \"white\", \"linecolor\": \"white\", \"ticks\": \"\"}, \"bgcolor\": \"#E5ECF6\", \"radialaxis\": {\"gridcolor\": \"white\", \"linecolor\": \"white\", \"ticks\": \"\"}}, \"scene\": {\"xaxis\": {\"backgroundcolor\": \"#E5ECF6\", \"gridcolor\": \"white\", \"gridwidth\": 2, \"linecolor\": \"white\", \"showbackground\": true, \"ticks\": \"\", \"zerolinecolor\": \"white\"}, \"yaxis\": {\"backgroundcolor\": \"#E5ECF6\", \"gridcolor\": \"white\", \"gridwidth\": 2, \"linecolor\": \"white\", \"showbackground\": true, \"ticks\": \"\", \"zerolinecolor\": \"white\"}, \"zaxis\": {\"backgroundcolor\": \"#E5ECF6\", \"gridcolor\": \"white\", \"gridwidth\": 2, \"linecolor\": \"white\", \"showbackground\": true, \"ticks\": \"\", \"zerolinecolor\": \"white\"}}, \"shapedefaults\": {\"line\": {\"color\": \"#2a3f5f\"}}, \"ternary\": {\"aaxis\": {\"gridcolor\": \"white\", \"linecolor\": \"white\", \"ticks\": \"\"}, \"baxis\": {\"gridcolor\": \"white\", \"linecolor\": \"white\", \"ticks\": \"\"}, \"bgcolor\": \"#E5ECF6\", \"caxis\": {\"gridcolor\": \"white\", \"linecolor\": \"white\", \"ticks\": \"\"}}, \"title\": {\"x\": 0.05}, \"xaxis\": {\"automargin\": true, \"gridcolor\": \"white\", \"linecolor\": \"white\", \"ticks\": \"\", \"title\": {\"standoff\": 15}, \"zerolinecolor\": \"white\", \"zerolinewidth\": 2}, \"yaxis\": {\"automargin\": true, \"gridcolor\": \"white\", \"linecolor\": \"white\", \"ticks\": \"\", \"title\": {\"standoff\": 15}, \"zerolinecolor\": \"white\", \"zerolinewidth\": 2}}}, \"xaxis\": {\"title\": {\"text\": \"PC1\"}}, \"yaxis\": {\"title\": {\"text\": \"PC2\"}}},\n",
       "                        {\"responsive\": true}\n",
       "                    ).then(function(){\n",
       "                            \n",
       "var gd = document.getElementById('7faa9e87-0fde-4c6b-87bb-9eb76ab9f2b9');\n",
       "var x = new MutationObserver(function (mutations, observer) {{\n",
       "        var display = window.getComputedStyle(gd).display;\n",
       "        if (!display || display === 'none') {{\n",
       "            console.log([gd, 'removed!']);\n",
       "            Plotly.purge(gd);\n",
       "            observer.disconnect();\n",
       "        }}\n",
       "}});\n",
       "\n",
       "// Listen for the removal of the full notebook cells\n",
       "var notebookContainer = gd.closest('#notebook-container');\n",
       "if (notebookContainer) {{\n",
       "    x.observe(notebookContainer, {childList: true});\n",
       "}}\n",
       "\n",
       "// Listen for the clearing of the current output cell\n",
       "var outputEl = gd.closest('.output');\n",
       "if (outputEl) {{\n",
       "    x.observe(outputEl, {childList: true});\n",
       "}}\n",
       "\n",
       "                        })\n",
       "                };\n",
       "                });\n",
       "            </script>\n",
       "        </div>"
      ]
     },
     "metadata": {},
     "output_type": "display_data"
    }
   ],
   "source": [
    "fig= go.Figure()\n",
    "\n",
    "fig.add_trace(\n",
    "    go.Scatter(\n",
    "    x= transformed_df[0],\n",
    "    y= transformed_df[1],\n",
    "    marker_color=C,\n",
    "    mode='markers',\n",
    "    name='post'\n",
    "    )\n",
    ")\n",
    "fig.update_layout(\n",
    "    xaxis_title='PC1',\n",
    "    yaxis_title='PC2'\n",
    ")\n",
    "\n",
    "fig.show()"
   ]
  },
  {
   "cell_type": "code",
   "execution_count": null,
   "metadata": {},
   "outputs": [],
   "source": []
  },
  {
   "cell_type": "code",
   "execution_count": null,
   "metadata": {},
   "outputs": [],
   "source": []
  },
  {
   "cell_type": "code",
   "execution_count": null,
   "metadata": {},
   "outputs": [],
   "source": []
  },
  {
   "cell_type": "code",
   "execution_count": null,
   "metadata": {},
   "outputs": [],
   "source": []
  }
 ],
 "metadata": {
  "kernelspec": {
   "display_name": "Python 3",
   "language": "python",
   "name": "python3"
  },
  "language_info": {
   "codemirror_mode": {
    "name": "ipython",
    "version": 3
   },
   "file_extension": ".py",
   "mimetype": "text/x-python",
   "name": "python",
   "nbconvert_exporter": "python",
   "pygments_lexer": "ipython3",
   "version": "3.7.3"
  }
 },
 "nbformat": 4,
 "nbformat_minor": 4
}
